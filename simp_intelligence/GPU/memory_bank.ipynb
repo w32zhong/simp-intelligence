{
 "cells": [
  {
   "cell_type": "markdown",
   "id": "b7d1499d-1381-405c-87c0-bbd2fc63e2a4",
   "metadata": {},
   "source": [
    "![](./banks.png)\n",
    "\n",
    "Shared memory is organized into 32 banks (to match 32 threads in a warp). Each bank is a slice of SRAM that can load or store 4 bytes of data every cycle.\n",
    "\n",
    "there would be a *bank conflict* if two requests access the same bank:\n",
    "![](./banks-conflict.png)\n",
    "\n",
    "Using a trick called *swizzling*, we can avoid some bank conflicts by chaning the layout of the memory access.\n",
    "\n"
   ]
  },
  {
   "cell_type": "markdown",
   "id": "c50c3b39-9a62-4578-a8ad-ffc4d9e0f661",
   "metadata": {},
   "source": [
    "## Reference\n",
    "[1] https://www.modular.com/blog/matrix-multiplication-on-nvidias-blackwell-part-2-using-hardware-features-to-optimize-matmul\n",
    "\n",
    "[2] https://feldmann.nyc/blog/smem-microbenchmarks"
   ]
  }
 ],
 "metadata": {
  "kernelspec": {
   "display_name": "Python 3 (ipykernel)",
   "language": "python",
   "name": "python3"
  },
  "language_info": {
   "codemirror_mode": {
    "name": "ipython",
    "version": 3
   },
   "file_extension": ".py",
   "mimetype": "text/x-python",
   "name": "python",
   "nbconvert_exporter": "python",
   "pygments_lexer": "ipython3",
   "version": "3.13.5"
  }
 },
 "nbformat": 4,
 "nbformat_minor": 5
}
