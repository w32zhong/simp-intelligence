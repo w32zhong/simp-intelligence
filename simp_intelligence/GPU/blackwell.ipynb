{
 "cells": [
  {
   "cell_type": "markdown",
   "id": "559f9047-503f-4740-83e0-197a7f36dafe",
   "metadata": {},
   "source": [
    "![](blackwell.png)\n",
    "\n",
    "Specs:\n",
    "* 148 Streaming Multiprocessors (SMs)\n",
    "* 4 Tensor Cores per SM\n",
    "* 7.672 TB/s High Bandwidth Memory\n",
    "* 228 KB combined Shared Memory + L1 cache per SM\n",
    "* 65,536 registers per SM\n",
    "* 192 MB L2 Cache shared between all SMs\n",
    "* 5th Generation Tensor core architecture\n",
    "* 256 KB of Tensor Memory"
   ]
  },
  {
   "cell_type": "markdown",
   "id": "e98552f1-080d-497c-9fda-0d58777d4c48",
   "metadata": {},
   "source": [
    "## Reference\n",
    "[1] https://www.modular.com/blog/matrix-multiplication-on-nvidias-blackwell-part-1-introduction"
   ]
  }
 ],
 "metadata": {
  "kernelspec": {
   "display_name": "Python 3 (ipykernel)",
   "language": "python",
   "name": "python3"
  },
  "language_info": {
   "codemirror_mode": {
    "name": "ipython",
    "version": 3
   },
   "file_extension": ".py",
   "mimetype": "text/x-python",
   "name": "python",
   "nbconvert_exporter": "python",
   "pygments_lexer": "ipython3",
   "version": "3.13.5"
  }
 },
 "nbformat": 4,
 "nbformat_minor": 5
}
