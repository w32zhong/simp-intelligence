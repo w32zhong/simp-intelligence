{
 "cells": [
  {
   "cell_type": "code",
   "execution_count": 2,
   "id": "fb1bbebc-78c1-4f97-b46a-16c277fcaf9a",
   "metadata": {},
   "outputs": [],
   "source": [
    "import hilt.eager.api as cute"
   ]
  },
  {
   "cell_type": "code",
   "execution_count": 8,
   "id": "ba2ee349-7483-4ea3-ad68-e8b6e7bdb51d",
   "metadata": {},
   "outputs": [
    {
     "data": {
      "text/plain": [
       "(<Figure size 320x240 with 1 Axes>, <Axes: >)"
      ]
     },
     "execution_count": 8,
     "metadata": {},
     "output_type": "execute_result"
    },
    {
     "data": {
      "image/png": "[encoded data removed]",
      "text/plain": [
       "<Figure size 320x240 with 1 Axes>"
      ]
     },
     "metadata": {},
     "output_type": "display_data"
    }
   ],
   "source": [
    "layout0 = cute.make_layout(shape=(2, 3), stride=(1, 3))\n",
    "layout0.visualize(dpi=50)"
   ]
  },
  {
   "cell_type": "code",
   "execution_count": 15,
   "id": "436670ec-c372-4c1c-8717-79b7ad341617",
   "metadata": {},
   "outputs": [
    {
     "data": {
      "text/plain": [
       "(<Figure size 320x240 with 1 Axes>, <Axes: >)"
      ]
     },
     "execution_count": 15,
     "metadata": {},
     "output_type": "execute_result"
    },
    {
     "data": {
      "image/png": "[encoded data removed]",
      "text/plain": [
       "<Figure size 320x240 with 1 Axes>"
      ]
     },
     "metadata": {},
     "output_type": "display_data"
    }
   ],
   "source": [
    "inner = cute.make_layout(shape=(2, 3), stride=(1, 3))\n",
    "outer = cute.make_layout(shape=(4, 4), stride=(4, 1))\n",
    "layout1 = cute.composition(inner, outer)\n",
    "layout1.visualize(dpi=50)"
   ]
  },
  {
   "cell_type": "markdown",
   "id": "373bec9f-a52f-4fc6-bcc0-41591e4bb966",
   "metadata": {},
   "source": [
    "## Reference\n",
    "1. Categorical Foundations for CuTe Layouts, Colfax Research, September 2025. https://research.colfax-intl.com/categorical-foundations-for-cute-layouts"
   ]
  }
 ],
 "metadata": {
  "kernelspec": {
   "display_name": "Python 3 (ipykernel)",
   "language": "python",
   "name": "python3"
  },
  "language_info": {
   "codemirror_mode": {
    "name": "ipython",
    "version": 3
   },
   "file_extension": ".py",
   "mimetype": "text/x-python",
   "name": "python",
   "nbconvert_exporter": "python",
   "pygments_lexer": "ipython3",
   "version": "3.12.11"
  }
 },
 "nbformat": 4,
 "nbformat_minor": 5
}
