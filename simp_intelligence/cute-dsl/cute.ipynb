{
 "cells": [
  {
   "cell_type": "code",
   "execution_count": 6,
   "id": "61d89c04-b3d3-4027-9cff-1ce734266a76",
   "metadata": {},
   "outputs": [],
   "source": [
    "import cutlass\n",
    "import cutlass.cute as cute\n",
    "import torch\n",
    "from cutlass.torch import dtype as torch_dtype"
   ]
  },
  {
   "cell_type": "code",
   "execution_count": 11,
   "id": "ceddcf07-90e6-4ee1-8998-9da71cd30c54",
   "metadata": {},
   "outputs": [
    {
     "name": "stdout",
     "output_type": "stream",
     "text": [
      "tensor(raw_ptr(0x0000556bce23dc00: i32, generic, align<4>) o ((2,2),2):((4,1),2), data=\n",
      "       [[ 0,  2, ],\n",
      "        [ 4,  6, ],\n",
      "        [ 1,  3, ],\n",
      "        [ 5,  7, ]])\n",
      "tensor(raw_ptr(0x0000556bce23dc00: i32, generic, align<4>) o ((2,2),2):((4,1),2), data= (\n",
      "\t((0,0),0)= 0\n",
      "\t((0,1),0)= 1\n",
      "\t((0,0),1)= 2\n",
      "\t((0,1),1)= 3\n",
      "\t((1,0),0)= 4\n",
      "\t((1,1),0)= 5\n",
      "\t((1,0),1)= 6\n",
      "\t((1,1),1)= 7\n",
      ")\n"
     ]
    }
   ],
   "source": [
    "@cute.jit\n",
    "def test(ptr: cute.Pointer):\n",
    "    layout = cute.make_layout(shape=((2,2),2), stride=((4,1),2))\n",
    "    tensor = cute.make_tensor(ptr, layout)\n",
    "    cute.print_tensor(tensor, verbose=False)\n",
    "    cute.print_tensor(tensor, verbose=True)\n",
    "\n",
    "dtype = cutlass.Int32\n",
    "storage = torch.arange(8, dtype=torch_dtype(dtype))\n",
    "storage_ptr = cute.runtime.make_ptr(dtype, storage.data_ptr())\n",
    "test(storage_ptr)"
   ]
  }
 ],
 "metadata": {
  "kernelspec": {
   "display_name": "Python 3 (ipykernel)",
   "language": "python",
   "name": "python3"
  },
  "language_info": {
   "codemirror_mode": {
    "name": "ipython",
    "version": 3
   },
   "file_extension": ".py",
   "mimetype": "text/x-python",
   "name": "python",
   "nbconvert_exporter": "python",
   "pygments_lexer": "ipython3",
   "version": "3.13.5"
  }
 },
 "nbformat": 4,
 "nbformat_minor": 5
}
