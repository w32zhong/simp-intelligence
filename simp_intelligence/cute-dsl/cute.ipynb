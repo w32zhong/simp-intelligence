{
 "cells": [
  {
   "cell_type": "code",
   "execution_count": 1,
   "id": "61d89c04-b3d3-4027-9cff-1ce734266a76",
   "metadata": {},
   "outputs": [],
   "source": [
    "import cutlass\n",
    "import cutlass.cute as cute\n",
    "import torch\n",
    "from cutlass.torch import dtype as torch_dtype"
   ]
  },
  {
   "cell_type": "code",
   "execution_count": 2,
   "id": "ceddcf07-90e6-4ee1-8998-9da71cd30c54",
   "metadata": {},
   "outputs": [
    {
     "name": "stdout",
     "output_type": "stream",
     "text": [
      "tensor(raw_ptr(0x000056534e8ce240: i32, generic, align<4>) o ((2,2),2):((4,1),2), data=\n",
      "       [[ 0,  2, ],\n",
      "        [ 4,  6, ],\n",
      "        [ 1,  3, ],\n",
      "        [ 5,  7, ]])\n",
      "tensor(raw_ptr(0x000056534e8ce240: i32, generic, align<4>) o ((2,2),2):((4,1),2), data= (\n",
      "\t((0,0),0)= 0\n",
      "\t((0,1),0)= 1\n",
      "\t((0,0),1)= 2\n",
      "\t((0,1),1)= 3\n",
      "\t((1,0),0)= 4\n",
      "\t((1,1),0)= 5\n",
      "\t((1,0),1)= 6\n",
      "\t((1,1),1)= 7\n",
      ")\n"
     ]
    }
   ],
   "source": [
    "@cute.jit\n",
    "def test(ptr: cute.Pointer, shape, stride):\n",
    "    layout = cute.make_layout(shape=shape, stride=stride)\n",
    "    tensor = cute.make_tensor(ptr, layout)\n",
    "    cute.print_tensor(tensor, verbose=False)\n",
    "    cute.print_tensor(tensor, verbose=True)\n",
    "\n",
    "dtype = cutlass.Int32\n",
    "storage = torch.arange(8, dtype=torch_dtype(dtype))\n",
    "storage_ptr = cute.runtime.make_ptr(dtype, storage.data_ptr())\n",
    "test(storage_ptr, shape=((2,2),2), stride=((4,1),2))"
   ]
  },
  {
   "cell_type": "markdown",
   "id": "67a57402-e676-433e-bb65-172ba0818abe",
   "metadata": {},
   "source": [
    "The above is a nested-mode matrix -- its layout is logically 4x2. So in non-verbose mode, it is printed using 2-D coordinates.\n",
    "However, in the the 1st coordinate of `((dim0, dim1), dim2)`, by convension, the left sub-coordinate `dim0` is actually in the inner-loop, and `dim1` is in the outter-loop.\n",
    "\n",
    "Let us take a look at another example:"
   ]
  },
  {
   "cell_type": "code",
   "execution_count": 19,
   "id": "fc4b3f06-daaa-407e-b310-9eade2b0f110",
   "metadata": {},
   "outputs": [
    {
     "name": "stdout",
     "output_type": "stream",
     "text": [
      "tensor(raw_ptr(0x0000556bcecf6900: i32, generic, align<4>) o ((2,2),(2,2)):((1,4),(2,8)), data=\n",
      "       [[ 0,  2,  8,  10, ],\n",
      "        [ 1,  3,  9,  11, ],\n",
      "        [ 4,  6,  12,  14, ],\n",
      "        [ 5,  7,  13,  15, ]])\n",
      "tensor(raw_ptr(0x0000556bcecf6900: i32, generic, align<4>) o ((2,2),(2,2)):((1,4),(2,8)), data= (\n",
      "\t((0,0),(0,0))= 0\n",
      "\t((1,0),(0,0))= 1\n",
      "\t((0,0),(1,0))= 2\n",
      "\t((1,0),(1,0))= 3\n",
      "\t((0,1),(0,0))= 4\n",
      "\t((1,1),(0,0))= 5\n",
      "\t((0,1),(1,0))= 6\n",
      "\t((1,1),(1,0))= 7\n",
      "\t((0,0),(0,1))= 8\n",
      "\t((1,0),(0,1))= 9\n",
      "\t((0,0),(1,1))= 10\n",
      "\t((1,0),(1,1))= 11\n",
      "\t((0,1),(0,1))= 12\n",
      "\t((1,1),(0,1))= 13\n",
      "\t((0,1),(1,1))= 14\n",
      "\t((1,1),(1,1))= 15\n",
      ")\n"
     ]
    }
   ],
   "source": [
    "storage = torch.arange(16, dtype=torch_dtype(dtype))\n",
    "storage_ptr = cute.runtime.make_ptr(dtype, storage.data_ptr())\n",
    "test(storage_ptr, shape=((2,2), (2,2)), stride=((1, 4), (2, 8)))"
   ]
  },
  {
   "cell_type": "markdown",
   "id": "ee72e533-7e71-468d-9149-39e1aab27f35",
   "metadata": {},
   "source": [
    "Along each logical axis, the order of sub-coordinate is similarly inner-left and outter-right:\n",
    "\n",
    "![](nested-layout.png)"
   ]
  },
  {
   "cell_type": "markdown",
   "id": "9f7c5e53-ebfd-47bd-8623-f2f94b0f8476",
   "metadata": {},
   "source": [
    "## Reference\n",
    "1. https://docs.nvidia.com/cutlass/media/docs/cpp/cute/01_layout.html\n",
    "2. https://docs.modular.com/mojo/manual/layout/layouts"
   ]
  }
 ],
 "metadata": {
  "kernelspec": {
   "display_name": "Python 3 (ipykernel)",
   "language": "python",
   "name": "python3"
  },
  "language_info": {
   "codemirror_mode": {
    "name": "ipython",
    "version": 3
   },
   "file_extension": ".py",
   "mimetype": "text/x-python",
   "name": "python",
   "nbconvert_exporter": "python",
   "pygments_lexer": "ipython3",
   "version": "3.12.11"
  }
 },
 "nbformat": 4,
 "nbformat_minor": 5
}
