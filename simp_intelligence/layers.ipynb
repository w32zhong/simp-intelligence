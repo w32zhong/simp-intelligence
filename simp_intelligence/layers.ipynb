{
 "cells": [
  {
   "cell_type": "markdown",
   "id": "997afbdb",
   "metadata": {},
   "source": [
    "# Layers\n",
    "Each layer $f$ in a neural network is just a function mapping from $\\mathbb{R}^m \\rightarrow \\mathbb{R}^n $. \n",
    "\n",
    "## Chain Rule (scaler version)\n",
    "Without loss of generality, consider the a compositional function $f(x(t), y(t))$, we can show: \n",
    "$$\n",
    "\\begin{aligned}\n",
    "f'(t) =& \\lim_{\\Delta t \\to 0} \\frac{f(x(t+\\Delta t), y(t+\\Delta t)) - f(x(t), y(t))}{\\Delta t} \\\\\n",
    "      =& \\lim_{\\Delta t \\to 0} \\frac{  f(x(t+\\Delta t), y(t+\\Delta t)) - f(x(t+\\Delta t), y(t))  + f(x(t+\\Delta t), y(t)) - f(x(t), y(t))  }{\\Delta t} \\\\\n",
    "      =& \\lim_{\\Delta t \\to 0} \\frac{f(x(t+\\Delta t), y(t+\\Delta t)) - f(x(t+\\Delta t), y(t))}{\\Delta t}  + \\lim_{\\Delta t \\to 0} \\frac{f(x(t+\\Delta t), y(t)) - f(x(t), y(t))}{\\Delta t} \\\\\n",
    "      =& \\lim_{\\Delta t \\to 0} \\frac{f(x(t+\\Delta t), y(t+\\Delta t)) - f(x(t+\\Delta t), y(t))}  {y(t+\\Delta t) - y(t)} \\cdot  \\frac{y(t+\\Delta t) - y(t)}{\\Delta t} + \\\\\n",
    "       & \\lim_{\\Delta t \\to 0} \\frac{f(x(t+\\Delta t), y(t)) - f(x(t), y(t))}  {x(t+\\Delta t) - x(t)} \\cdot  \\frac{x(t+\\Delta t) - x(t)}{\\Delta t} \\\\\n",
    " \\doteq& \\lim_{\\Delta t \\to 0} \\frac{f(x(t+\\Delta t), y(t) + \\Delta y) - f(x(t+\\Delta t), y(t))}  {\\Delta y} \\cdot  \\frac{y(t+\\Delta t) - y(t)}{\\Delta t} + \\\\\n",
    "       & \\lim_{\\Delta t \\to 0} \\frac{f(x(t) + \\Delta x, y(t)) - f(x(t), y(t))}  {\\Delta x} \\cdot  \\frac{x(t+\\Delta t) - x(t)}{\\Delta t} \\\\\n",
    " \\doteq& \\frac{\\partial}{\\partial y} f(x, y) \\cdot \\frac{\\partial}{\\partial t} y(t) + \\frac{\\partial}{\\partial x} f(x, y) \\cdot \\frac{\\partial}{\\partial t} x(t) \\\\\n",
    "\\end{aligned}\n",
    "$$ \n",
    "\n",
    "iff $\\Delta t \\rightarrow 0$ implies $\\Delta x \\rightarrow 0$ and $\\Delta y \\rightarrow 0$, alternatively, [Lipschitz continuity](./math/Lipschitz.ipynb). \n",
    "\n",
    "## Chain Rule (multivariate version)\n",
    "\n",
    "In more general case when $z(t) = f(x(t))$ where $x \\in \\mathbb{R}^n, t \\in \\mathbb{R}^m, f: \\mathbb{R}^n \\rightarrow \\mathbb{R}$ and $x: \\mathbb{R}^m \\rightarrow \\mathbb{R}^n$, \n",
    "\n",
    "$$\n",
    "\\begin{aligned}\n",
    "\\frac{\\partial z}{\\partial t_i} =&\n",
    "    \\begin{bmatrix}\n",
    "        \\frac{\\partial f(x)}{\\partial x_1} & ... & \\frac{\\partial f(x)}{\\partial x_n}\n",
    "    \\end{bmatrix}_{x = x(t)}\n",
    "    \\cdot\n",
    "    \\begin{bmatrix}\n",
    "        \\frac{\\partial x_1}{\\partial t_i} \\\\\n",
    "        \\vdots \\\\\n",
    "        \\frac{\\partial x_n}{\\partial t_i}\n",
    "    \\end{bmatrix} \\\\\\\\ \\doteq& \\nabla_x^T f (x = x(t)) \\cdot \\begin{bmatrix} \\frac{\\partial x_1}{\\partial t_i} \\\\\\\\ \\vdots \\\\\\\\ \\frac{\\partial x_n}{\\partial t_i} \\end{bmatrix} \\\\\\\\ \\end{aligned} $$ \n",
    "\n",
    "therefore \n",
    "\n",
    "$$ \\tag{1} \\nabla_t^T z(t) \\doteq \\begin{bmatrix} \\frac{\\partial f}{\\partial t_1}, ..., \\frac{\\partial f}{\\partial t_m} \\end{bmatrix} = \\nabla_x^T f (x = x(t)) \\cdot \\begin{bmatrix}  \\partial x_1 / \\partial t_1 & \\partial x_1 / \\partial t_2 & ... & \\partial x_1 / \\partial t_m \\\\\\\\  \\partial x_2 / \\partial t_1 & \\partial x_2 / \\partial t_2 & ... & \\partial x_2 / \\partial t_m \\\\\\\\  \\vdots & \\ddots \\\\\\\\  \\partial x_n / \\partial t_1 & \\partial x_n / \\partial t_2 & ... & \\partial x_n / \\partial t_m \\\\\\\\ \\end{bmatrix} $$ \n",
    "\n",
    "where the RHS matrix is called the Jacobian matrix $J_t x$. \n",
    "\n",
    "```mojo\n",
    "\n",
    "```"
   ]
  },
  {
   "cell_type": "code",
   "execution_count": null,
   "id": "c6cacb17-14fa-4d56-8819-92a3450ca155",
   "metadata": {},
   "outputs": [],
   "source": []
  }
 ],
 "metadata": {
  "kernelspec": {
   "display_name": "MAX (Conda ENV Mojo kernel)",
   "language": "mojo",
   "name": "mojo"
  },
  "language_info": {
   "codemirror_mode": {
    "name": "mojo"
   },
   "file_extension": ".mojo",
   "mimetype": "text/x-mojo",
   "name": "mojo"
  }
 },
 "nbformat": 4,
 "nbformat_minor": 5
}
