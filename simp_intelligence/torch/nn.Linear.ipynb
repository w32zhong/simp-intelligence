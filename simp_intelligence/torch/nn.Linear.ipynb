{
 "cells": [
  {
   "cell_type": "markdown",
   "id": "51c7f79e-3314-4973-b662-f37078f71d67",
   "metadata": {},
   "source": [
    "Pytorch linear implementation `torch.nn.Linear(n, m)` specifies a $W_{m \\times n}$ which transforms a vector of $n$ to $m$:\n",
    "$$\n",
    "y = W x + b\n",
    "$$"
   ]
  },
  {
   "cell_type": "code",
   "execution_count": 1,
   "id": "5989927e-749d-40d0-90f9-8df60b0b848e",
   "metadata": {},
   "outputs": [],
   "source": [
    "import torch\n",
    "linear = torch.nn.Linear(3, 5)\n",
    "x = torch.randn(3)\n",
    "y = linear(x)"
   ]
  },
  {
   "cell_type": "code",
   "execution_count": 2,
   "id": "ebcbb3e4-a3e1-4051-9980-4949eb81f580",
   "metadata": {},
   "outputs": [
    {
     "name": "stdout",
     "output_type": "stream",
     "text": [
      "torch.Size([5, 3]) torch.Size([5])\n"
     ]
    }
   ],
   "source": [
    "print(linear.weight.shape, linear.bias.shape)"
   ]
  },
  {
   "cell_type": "code",
   "execution_count": 146,
   "id": "2a0798c5-2a67-4dd0-846b-d196cdc193b2",
   "metadata": {},
   "outputs": [],
   "source": [
    "assert torch.allclose(y, linear.weight @ x + linear.bias)"
   ]
  },
  {
   "cell_type": "markdown",
   "id": "39cf800f-76c7-49c6-bb76-a1bed874b5fe",
   "metadata": {},
   "source": [
    "Let's verify its Jacobian matrix:"
   ]
  },
  {
   "cell_type": "code",
   "execution_count": 147,
   "id": "0d5e9d5d-70aa-4891-adf6-62076bb476ab",
   "metadata": {},
   "outputs": [
    {
     "name": "stdout",
     "output_type": "stream",
     "text": [
      "tensor([[ 0.4155, -0.1529,  0.2234],\n",
      "        [ 0.1951, -0.4253,  0.5428],\n",
      "        [-0.1048, -0.0363, -0.0245],\n",
      "        [ 0.0065, -0.0197, -0.5145],\n",
      "        [ 0.0813, -0.0605,  0.5442]], grad_fn=<ViewBackward0>)\n"
     ]
    }
   ],
   "source": [
    "J = torch.func.jacrev(linear)(x)\n",
    "print(J)"
   ]
  },
  {
   "cell_type": "markdown",
   "id": "98147389-85ee-4786-bafd-2768aaae9222",
   "metadata": {},
   "source": [
    "It should be exactly equal to $W$ (see [math here](../math/operators/linear.ipynb)):"
   ]
  },
  {
   "cell_type": "code",
   "execution_count": 148,
   "id": "359271d3-256d-4f36-b5e9-6429825a0168",
   "metadata": {},
   "outputs": [
    {
     "name": "stdout",
     "output_type": "stream",
     "text": [
      "Parameter containing:\n",
      "tensor([[ 0.4155, -0.1529,  0.2234],\n",
      "        [ 0.1951, -0.4253,  0.5428],\n",
      "        [-0.1048, -0.0363, -0.0245],\n",
      "        [ 0.0065, -0.0197, -0.5145],\n",
      "        [ 0.0813, -0.0605,  0.5442]], requires_grad=True)\n"
     ]
    }
   ],
   "source": [
    "print(linear.weight)"
   ]
  },
  {
   "cell_type": "markdown",
   "id": "f84c9ad5-c9f2-410c-b832-a1ce35bcb4d8",
   "metadata": {},
   "source": [
    "We can also verify it using the backprop process:"
   ]
  },
  {
   "cell_type": "code",
   "execution_count": 149,
   "id": "c31f4989-4915-4747-9f47-238db1c9007a",
   "metadata": {},
   "outputs": [],
   "source": [
    "x.requires_grad = True\n",
    "y = linear(x)\n",
    "y.retain_grad() # call after computation graph is constructed!\n",
    "y.backward(torch.ones(5), retain_graph=True)"
   ]
  },
  {
   "cell_type": "code",
   "execution_count": 150,
   "id": "dfc41ded-0365-4238-b141-bcbbd7f25e74",
   "metadata": {},
   "outputs": [],
   "source": [
    "assert torch.allclose(x.grad, torch.ones(5) @ J) "
   ]
  }
 ],
 "metadata": {
  "kernelspec": {
   "display_name": "Python 3 (ipykernel)",
   "language": "python",
   "name": "python3"
  },
  "language_info": {
   "codemirror_mode": {
    "name": "ipython",
    "version": 3
   },
   "file_extension": ".py",
   "mimetype": "text/x-python",
   "name": "python",
   "nbconvert_exporter": "python",
   "pygments_lexer": "ipython3",
   "version": "3.12.11"
  }
 },
 "nbformat": 4,
 "nbformat_minor": 5
}
