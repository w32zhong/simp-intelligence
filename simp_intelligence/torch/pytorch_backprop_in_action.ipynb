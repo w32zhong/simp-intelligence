{
 "cells": [
  {
   "cell_type": "markdown",
   "id": "7d77eab3-a82a-4e97-9eea-10c357346c8e",
   "metadata": {},
   "source": [
    "## Example"
   ]
  },
  {
   "cell_type": "markdown",
   "id": "075ca2a1-35e3-4d64-8c77-317bd267ff92",
   "metadata": {},
   "source": [
    "![](compute-graph-example.png)"
   ]
  },
  {
   "cell_type": "markdown",
   "id": "fd0cd373-dbc1-4510-aec4-859279ab45c5",
   "metadata": {},
   "source": [
    "## Reference\n",
    "1. https://www.youtube.com/watch?v=56WUlMEeAuA"
   ]
  }
 ],
 "metadata": {
  "kernelspec": {
   "display_name": "Python 3 (ipykernel)",
   "language": "python",
   "name": "python3"
  },
  "language_info": {
   "codemirror_mode": {
    "name": "ipython",
    "version": 3
   },
   "file_extension": ".py",
   "mimetype": "text/x-python",
   "name": "python",
   "nbconvert_exporter": "python",
   "pygments_lexer": "ipython3",
   "version": "3.13.5"
  }
 },
 "nbformat": 4,
 "nbformat_minor": 5
}
