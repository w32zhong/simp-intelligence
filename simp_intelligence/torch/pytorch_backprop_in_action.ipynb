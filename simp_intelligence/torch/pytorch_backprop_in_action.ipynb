{
 "cells": [
  {
   "cell_type": "markdown",
   "id": "7d77eab3-a82a-4e97-9eea-10c357346c8e",
   "metadata": {},
   "source": [
    "## Example\n",
    "Given an example and its computation graph:"
   ]
  },
  {
   "cell_type": "markdown",
   "id": "075ca2a1-35e3-4d64-8c77-317bd267ff92",
   "metadata": {},
   "source": [
    "![](compute-graph-example.png)\n",
    "\n",
    "We will have two ways to compute diffferentiation:"
   ]
  },
  {
   "cell_type": "markdown",
   "id": "78200f7d-1f10-4f06-9f96-743ffcccb526",
   "metadata": {},
   "source": [
    "## Forward Auto-Differentiation (AD)"
   ]
  },
  {
   "cell_type": "markdown",
   "id": "2af4e310-b990-4f98-b198-b350e6fea538",
   "metadata": {},
   "source": [
    "![](forward-AD.png)"
   ]
  },
  {
   "cell_type": "markdown",
   "id": "fe30e9f6-a27b-4785-a6ac-8cf0ea980e2e",
   "metadata": {},
   "source": [
    "## Reverse Auto-Differentiation (AD)"
   ]
  },
  {
   "cell_type": "markdown",
   "id": "926bbb19-ec2e-477c-88a9-d7296ac2219e",
   "metadata": {},
   "source": [
    "![](reverse-AD.png)"
   ]
  },
  {
   "cell_type": "markdown",
   "id": "fd0cd373-dbc1-4510-aec4-859279ab45c5",
   "metadata": {},
   "source": [
    "## Reference\n",
    "1. https://www.youtube.com/watch?v=56WUlMEeAuA"
   ]
  }
 ],
 "metadata": {
  "kernelspec": {
   "display_name": "Python 3 (ipykernel)",
   "language": "python",
   "name": "python3"
  },
  "language_info": {
   "codemirror_mode": {
    "name": "ipython",
    "version": 3
   },
   "file_extension": ".py",
   "mimetype": "text/x-python",
   "name": "python",
   "nbconvert_exporter": "python",
   "pygments_lexer": "ipython3",
   "version": "3.13.5"
  }
 },
 "nbformat": 4,
 "nbformat_minor": 5
}
