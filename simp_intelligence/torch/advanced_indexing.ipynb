{
 "cells": [
  {
   "cell_type": "markdown",
   "id": "e467b0a1-f001-4072-9a7b-3d7278a695c4",
   "metadata": {},
   "source": [
    "# Advanced Indexing\n",
    "\n",
    "Advanced indexing can be thought as indexing a tensor using tensor(s).\n",
    "\n",
    "Assume we have a 3x3 matrix `M` and an index `idx` that select one column for each row."
   ]
  },
  {
   "cell_type": "code",
   "execution_count": null,
   "id": "38147eda-12fb-4448-a57d-810f33d2e657",
   "metadata": {},
   "outputs": [],
   "source": [
    "import torch\n",
    "M = torch.tensor([\n",
    "    [1, 2, 3],\n",
    "    [4, 5, 6],\n",
    "    [7, 8, 9]\n",
    "])\n",
    "\n",
    "idx = torch.tensor([2, 1, 1]) # targeting 3, 5, 8."
   ]
  },
  {
   "cell_type": "markdown",
   "id": "eeb94dde-551e-44de-8aa3-61159baf851f",
   "metadata": {},
   "source": [
    "The following won't work as expected:"
   ]
  },
  {
   "cell_type": "code",
   "execution_count": 10,
   "id": "d70b4a46-a795-4813-b99d-9b1ef424b28a",
   "metadata": {},
   "outputs": [
    {
     "name": "stdout",
     "output_type": "stream",
     "text": [
      "tensor([[3, 2, 2],\n",
      "        [6, 5, 5],\n",
      "        [9, 8, 8]])\n"
     ]
    }
   ],
   "source": [
    "print(M[:, idx])"
   ]
  },
  {
   "cell_type": "markdown",
   "id": "8aa8d1de-b468-43e4-a05f-c914f7017ceb",
   "metadata": {},
   "source": [
    "What it does is simply printing `new_M[:, k] = M[:, idx[k]]`.\n",
    "\n",
    "One correct way to achieve our expected result is:"
   ]
  },
  {
   "cell_type": "code",
   "execution_count": 16,
   "id": "06e06bc2-69fb-499b-99ea-3fac14943ea2",
   "metadata": {},
   "outputs": [
    {
     "name": "stdout",
     "output_type": "stream",
     "text": [
      "tensor([3, 5, 8])\n"
     ]
    }
   ],
   "source": [
    "print(M[torch.tensor([0, 1, 2]), idx])"
   ]
  },
  {
   "cell_type": "markdown",
   "id": "d2cdfec5-9565-4c29-b44d-9ca367632d25",
   "metadata": {},
   "source": [
    "Alternatively, use PyTorch tensor gather [2]:"
   ]
  },
  {
   "cell_type": "code",
   "execution_count": 21,
   "id": "a4c9dc42-388d-4f62-bd7a-7bc62b9292dc",
   "metadata": {},
   "outputs": [
    {
     "data": {
      "text/plain": [
       "tensor([[3],\n",
       "        [5],\n",
       "        [8]])"
      ]
     },
     "execution_count": 21,
     "metadata": {},
     "output_type": "execute_result"
    }
   ],
   "source": [
    "M.gather(dim=1, index=idx.unsqueeze(-1))"
   ]
  },
  {
   "cell_type": "markdown",
   "id": "7cd14e79-00b7-474f-9b92-5c5b26ce10ad",
   "metadata": {},
   "source": [
    "To understand this introductory enxample, you will need to understand *advanced indexing* [1]."
   ]
  },
  {
   "cell_type": "markdown",
   "id": "fe11ae72-8122-42f7-9acf-584b059c1fd4",
   "metadata": {},
   "source": [
    "## When indices are next to each other in dimensions\n",
    "Given example data x:"
   ]
  },
  {
   "cell_type": "code",
   "execution_count": 3,
   "id": "08ce4b99-ffe3-48a7-900d-fd8e3f6ffe88",
   "metadata": {},
   "outputs": [
    {
     "name": "stdout",
     "output_type": "stream",
     "text": [
      "tensor([[[[  0,   1,   2,   3,   4],\n",
      "          [  5,   6,   7,   8,   9],\n",
      "          [ 10,  11,  12,  13,  14],\n",
      "          [ 15,  16,  17,  18,  19]],\n",
      "\n",
      "         [[ 20,  21,  22,  23,  24],\n",
      "          [ 25,  26,  27,  28,  29],\n",
      "          [ 30,  31,  32,  33,  34],\n",
      "          [ 35,  36,  37,  38,  39]],\n",
      "\n",
      "         [[ 40,  41,  42,  43,  44],\n",
      "          [ 45,  46,  47,  48,  49],\n",
      "          [ 50,  51,  52,  53,  54],\n",
      "          [ 55,  56,  57,  58,  59]]],\n",
      "\n",
      "\n",
      "        [[[ 60,  61,  62,  63,  64],\n",
      "          [ 65,  66,  67,  68,  69],\n",
      "          [ 70,  71,  72,  73,  74],\n",
      "          [ 75,  76,  77,  78,  79]],\n",
      "\n",
      "         [[ 80,  81,  82,  83,  84],\n",
      "          [ 85,  86,  87,  88,  89],\n",
      "          [ 90,  91,  92,  93,  94],\n",
      "          [ 95,  96,  97,  98,  99]],\n",
      "\n",
      "         [[100, 101, 102, 103, 104],\n",
      "          [105, 106, 107, 108, 109],\n",
      "          [110, 111, 112, 113, 114],\n",
      "          [115, 116, 117, 118, 119]]]])\n"
     ]
    }
   ],
   "source": [
    "x = torch.arange(120).reshape(2, 3, 4, 5)\n",
    "print(x)"
   ]
  },
  {
   "cell_type": "markdown",
   "id": "0c8aa404-0224-4b71-a3f4-1a68642fa8e7",
   "metadata": {},
   "source": [
    "Assume we want to use `[[0, 1, 0, 1], [2, 3, 2, 3]]` to index the 2nd dimension (dim=2) according to the batch dimension (dim=0).\n",
    "\n",
    "We will need to construct advance indices `idx0, idx1, idx2` for `dim=0, 1, 2` such that \n",
    "\n",
    "`new_x[i, j, k, :] = x[ idx0[i, j, k], idx1[i, j, k], idx2[i, j, k] ]`\n",
    "\n",
    "thus the shape of `idx0, idx1, idx2` should be (2, 3, 4). Even if they are not, they will be broadcasted to guarantee that the indices are of the same shape during advanced indexing."
   ]
  },
  {
   "cell_type": "code",
   "execution_count": 24,
   "id": "c805f80d-fd39-4dcb-ba17-5a478e46b39e",
   "metadata": {},
   "outputs": [
    {
     "name": "stdout",
     "output_type": "stream",
     "text": [
      "tensor([[[0, 0, 0, 0],\n",
      "         [0, 0, 0, 0],\n",
      "         [0, 0, 0, 0]],\n",
      "\n",
      "        [[1, 1, 1, 1],\n",
      "         [1, 1, 1, 1],\n",
      "         [1, 1, 1, 1]]])\n",
      "tensor([[[0, 0, 0, 0],\n",
      "         [1, 1, 1, 1],\n",
      "         [2, 2, 2, 2]],\n",
      "\n",
      "        [[0, 0, 0, 0],\n",
      "         [1, 1, 1, 1],\n",
      "         [2, 2, 2, 2]]])\n",
      "tensor([[[0, 1, 0, 1],\n",
      "         [0, 1, 0, 1],\n",
      "         [0, 1, 0, 1]],\n",
      "\n",
      "        [[2, 3, 2, 3],\n",
      "         [2, 3, 2, 3],\n",
      "         [2, 3, 2, 3]]])\n"
     ]
    }
   ],
   "source": [
    "index_shape = x.shape[:3]\n",
    "\n",
    "idx0 = torch.arange(2).reshape(-1, 1, 1).expand(*index_shape)\n",
    "print(idx0)\n",
    "\n",
    "idx1 = torch.arange(3).reshape(1, -1, 1).expand(*index_shape)\n",
    "print(idx1)\n",
    "\n",
    "idx2 = torch.tensor([[0, 1, 0, 1], [2, 3, 2, 3]]).unsqueeze(1).expand(*index_shape)\n",
    "print(idx2)"
   ]
  },
  {
   "cell_type": "code",
   "execution_count": 25,
   "id": "f7008a94-1732-435e-9c82-b6f686c79be7",
   "metadata": {},
   "outputs": [
    {
     "name": "stdout",
     "output_type": "stream",
     "text": [
      "tensor([[[[  0,   1,   2,   3,   4],\n",
      "          [  5,   6,   7,   8,   9],\n",
      "          [  0,   1,   2,   3,   4],\n",
      "          [  5,   6,   7,   8,   9]],\n",
      "\n",
      "         [[ 20,  21,  22,  23,  24],\n",
      "          [ 25,  26,  27,  28,  29],\n",
      "          [ 20,  21,  22,  23,  24],\n",
      "          [ 25,  26,  27,  28,  29]],\n",
      "\n",
      "         [[ 40,  41,  42,  43,  44],\n",
      "          [ 45,  46,  47,  48,  49],\n",
      "          [ 40,  41,  42,  43,  44],\n",
      "          [ 45,  46,  47,  48,  49]]],\n",
      "\n",
      "\n",
      "        [[[ 70,  71,  72,  73,  74],\n",
      "          [ 75,  76,  77,  78,  79],\n",
      "          [ 70,  71,  72,  73,  74],\n",
      "          [ 75,  76,  77,  78,  79]],\n",
      "\n",
      "         [[ 90,  91,  92,  93,  94],\n",
      "          [ 95,  96,  97,  98,  99],\n",
      "          [ 90,  91,  92,  93,  94],\n",
      "          [ 95,  96,  97,  98,  99]],\n",
      "\n",
      "         [[110, 111, 112, 113, 114],\n",
      "          [115, 116, 117, 118, 119],\n",
      "          [110, 111, 112, 113, 114],\n",
      "          [115, 116, 117, 118, 119]]]])\n"
     ]
    }
   ],
   "source": [
    "print(x[idx_0, idx_1, idx_2, :])"
   ]
  },
  {
   "cell_type": "markdown",
   "id": "936b0301-354d-4e27-a171-4b1146f17cd2",
   "metadata": {},
   "source": [
    "## When indices are NOT next to each other in dimensions\n",
    "Advanced indices often will \"merge with\" the neighbor indices and replace the original subspace with index space, *unless they are **not** next to each other*:"
   ]
  },
  {
   "cell_type": "code",
   "execution_count": 26,
   "id": "87b38428-ee96-4499-aa7e-6e4e42ccde21",
   "metadata": {},
   "outputs": [
    {
     "name": "stdout",
     "output_type": "stream",
     "text": [
      "torch.Size([2, 7, 8, 4, 5, 6])\n",
      "torch.Size([2, 7, 8, 5, 6])\n",
      "torch.Size([7, 8, 2, 4, 6])\n"
     ]
    }
   ],
   "source": [
    "shape = torch.tensor((2,3,4,5,6), dtype=torch.long)\n",
    "tensor = torch.arange(shape.prod()).reshape(*shape.tolist())\n",
    "\n",
    "idx = torch.randint(0,1, (7,8))\n",
    "print(tensor[:, idx].shape)\n",
    "print(tensor[:, idx, idx].shape)\n",
    "print(tensor[:, idx, :, idx].shape)"
   ]
  },
  {
   "cell_type": "markdown",
   "id": "46ea1543-a7e6-412b-b018-f9c065e22be6",
   "metadata": {},
   "source": [
    "In the last case, because the merged subspace can either be placed at the first index dimension (dim=1) or be placed at the 2nd index dimension (dim=3), it creates ambiguity. In numpy and pytorch, the protocol is to place the merged dimension to the front in this case. "
   ]
  },
  {
   "cell_type": "markdown",
   "id": "3421ad78-48f4-41af-b6fe-7622d2e08ba9",
   "metadata": {},
   "source": [
    "To understand the last case, let us look at a concrete example:"
   ]
  },
  {
   "cell_type": "code",
   "execution_count": 27,
   "id": "6714fe55-54be-403d-87d5-5cb1793784fa",
   "metadata": {},
   "outputs": [
    {
     "name": "stdout",
     "output_type": "stream",
     "text": [
      "torch.Size([6, 2, 4])\n"
     ]
    }
   ],
   "source": [
    "x = torch.arange(120).reshape(2, 3, 4, 5)\n",
    "i = torch.tensor([0, 1, 0, 1, 0, 1]) # shape of (6,)\n",
    "j = torch.tensor([0, 2, 0, 2, 0, 2]) # shape of (6,)\n",
    "#     2, 3, 4, 5\n",
    "y = x[:, i, :, j]\n",
    "print(y.shape)"
   ]
  },
  {
   "cell_type": "markdown",
   "id": "fe4d9dee-2404-41e4-b7c8-84ce86496cf7",
   "metadata": {},
   "source": [
    "Here it selects\n",
    "\n",
    "`y[k, :, :] = x[:, i[k], :, j[k]]`"
   ]
  },
  {
   "cell_type": "code",
   "execution_count": 28,
   "id": "2ec2b613-6693-45f5-9b63-805ae5e04e1d",
   "metadata": {},
   "outputs": [
    {
     "name": "stdout",
     "output_type": "stream",
     "text": [
      "tensor([[[[  0,   1,   2,   3,   4],\n",
      "          [  5,   6,   7,   8,   9],\n",
      "          [ 10,  11,  12,  13,  14],\n",
      "          [ 15,  16,  17,  18,  19]],\n",
      "\n",
      "         [[ 20,  21,  22,  23,  24],\n",
      "          [ 25,  26,  27,  28,  29],\n",
      "          [ 30,  31,  32,  33,  34],\n",
      "          [ 35,  36,  37,  38,  39]],\n",
      "\n",
      "         [[ 40,  41,  42,  43,  44],\n",
      "          [ 45,  46,  47,  48,  49],\n",
      "          [ 50,  51,  52,  53,  54],\n",
      "          [ 55,  56,  57,  58,  59]]],\n",
      "\n",
      "\n",
      "        [[[ 60,  61,  62,  63,  64],\n",
      "          [ 65,  66,  67,  68,  69],\n",
      "          [ 70,  71,  72,  73,  74],\n",
      "          [ 75,  76,  77,  78,  79]],\n",
      "\n",
      "         [[ 80,  81,  82,  83,  84],\n",
      "          [ 85,  86,  87,  88,  89],\n",
      "          [ 90,  91,  92,  93,  94],\n",
      "          [ 95,  96,  97,  98,  99]],\n",
      "\n",
      "         [[100, 101, 102, 103, 104],\n",
      "          [105, 106, 107, 108, 109],\n",
      "          [110, 111, 112, 113, 114],\n",
      "          [115, 116, 117, 118, 119]]]])\n",
      "tensor([[[ 0,  5, 10, 15],\n",
      "         [60, 65, 70, 75]],\n",
      "\n",
      "        [[22, 27, 32, 37],\n",
      "         [82, 87, 92, 97]],\n",
      "\n",
      "        [[ 0,  5, 10, 15],\n",
      "         [60, 65, 70, 75]],\n",
      "\n",
      "        [[22, 27, 32, 37],\n",
      "         [82, 87, 92, 97]],\n",
      "\n",
      "        [[ 0,  5, 10, 15],\n",
      "         [60, 65, 70, 75]],\n",
      "\n",
      "        [[22, 27, 32, 37],\n",
      "         [82, 87, 92, 97]]])\n"
     ]
    }
   ],
   "source": [
    "print(x)\n",
    "print(y)"
   ]
  },
  {
   "cell_type": "markdown",
   "id": "630a327a-fc01-4999-9a65-25223fa3a4e8",
   "metadata": {},
   "source": [
    "## Reference\n",
    "1. https://numpy.org/doc/stable/user/basics.indexing.html\n",
    "2. https://docs.pytorch.org/docs/stable/generated/torch.gather.html"
   ]
  }
 ],
 "metadata": {
  "kernelspec": {
   "display_name": "Python 3 (ipykernel)",
   "language": "python",
   "name": "python3"
  },
  "language_info": {
   "codemirror_mode": {
    "name": "ipython",
    "version": 3
   },
   "file_extension": ".py",
   "mimetype": "text/x-python",
   "name": "python",
   "nbconvert_exporter": "python",
   "pygments_lexer": "ipython3",
   "version": "3.13.5"
  }
 },
 "nbformat": 4,
 "nbformat_minor": 5
}
