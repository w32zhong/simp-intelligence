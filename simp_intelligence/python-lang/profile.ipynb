{
 "cells": [
  {
   "cell_type": "markdown",
   "id": "165d9e21-6cd3-4bdd-8d0d-2ef059fa9a93",
   "metadata": {},
   "source": [
    "Paste these two blocks around the target code, and it will print the top 10 functions, sorted by cumulative call time:"
   ]
  },
  {
   "cell_type": "code",
   "execution_count": 1,
   "id": "d9f34d60-2e15-4b98-a160-34c8b58f9162",
   "metadata": {},
   "outputs": [
    {
     "name": "stdout",
     "output_type": "stream",
     "text": [
      "         1139745 function calls (1122246 primitive calls) in 1.436 seconds\n",
      "\n",
      "   Ordered by: cumulative time\n",
      "   List reduced from 4011 to 10 due to restriction <10>\n",
      "\n",
      "   ncalls  tottime  percall  cumtime  percall filename:lineno(function)\n",
      "   181/83    0.001    0.000    1.269    0.015 /home/tk/Desktop/jupyter/simp-intelligence/.pixi/envs/default/lib/python3.13/site-packages/torch/_ops.py:316(fallthrough)\n",
      "       12    0.000    0.000    1.124    0.094 /home/tk/Desktop/jupyter/simp-intelligence/.pixi/envs/default/lib/python3.13/site-packages/torch/_jit_internal.py:1022(_overload)\n",
      "        1    0.000    0.000    0.561    0.561 /home/tk/Desktop/jupyter/simp-intelligence/.pixi/envs/default/lib/python3.13/site-packages/torch/nn/__init__.py:1(<module>)\n",
      "        1    0.000    0.000    0.542    0.542 /home/tk/Desktop/jupyter/simp-intelligence/.pixi/envs/default/lib/python3.13/site-packages/torch/nn/modules/__init__.py:1(<module>)\n",
      "   152/57    0.012    0.000    0.405    0.007 /home/tk/Desktop/jupyter/simp-intelligence/.pixi/envs/default/lib/python3.13/site-packages/torch/_ops.py:296(py_impl)\n",
      "  786/700    0.001    0.000    0.339    0.000 <frozen importlib._bootstrap>:806(module_from_spec)\n",
      "      6/4    0.000    0.000    0.325    0.081 <frozen importlib._bootstrap_external>:1318(create_module)\n",
      "      6/4    0.265    0.044    0.325    0.081 {built-in method _imp.create_dynamic}\n",
      "     11/7    0.000    0.000    0.287    0.041 /home/tk/Desktop/jupyter/simp-intelligence/.pixi/envs/default/lib/python3.13/site-packages/torch/_ops.py:161(py_functionalize_impl)\n",
      "      113    0.001    0.000    0.246    0.002 /home/tk/Desktop/jupyter/simp-intelligence/.pixi/envs/default/lib/python3.13/site-packages/torch/_library/custom_ops.py:186(__init__)\n",
      "\n",
      "\n"
     ]
    },
    {
     "data": {
      "text/plain": [
       "<pstats.Stats at 0x7f74f01ee900>"
      ]
     },
     "execution_count": 1,
     "metadata": {},
     "output_type": "execute_result"
    }
   ],
   "source": [
    "import cProfile, pstats\n",
    "\n",
    "profiler = cProfile.Profile()\n",
    "profiler.enable()\n",
    "\n",
    "import torch\n",
    "\n",
    "profiler.disable()\n",
    "pstats.Stats(profiler).sort_stats(pstats.SortKey.CUMULATIVE).print_stats(10)"
   ]
  },
  {
   "cell_type": "markdown",
   "id": "5c016cb7-0049-40fd-9f1e-7703d02be4b6",
   "metadata": {},
   "source": [
    "## Reference\n",
    "1. https://adamj.eu/tech/2023/07/23/python-profile-section-cprofile/"
   ]
  },
  {
   "cell_type": "code",
   "execution_count": null,
   "id": "b0ff55c5-b876-4d6a-8586-82e8f774043a",
   "metadata": {},
   "outputs": [],
   "source": []
  }
 ],
 "metadata": {
  "kernelspec": {
   "display_name": "Python 3 (ipykernel)",
   "language": "python",
   "name": "python3"
  },
  "language_info": {
   "codemirror_mode": {
    "name": "ipython",
    "version": 3
   },
   "file_extension": ".py",
   "mimetype": "text/x-python",
   "name": "python",
   "nbconvert_exporter": "python",
   "pygments_lexer": "ipython3",
   "version": "3.13.5"
  }
 },
 "nbformat": 4,
 "nbformat_minor": 5
}
