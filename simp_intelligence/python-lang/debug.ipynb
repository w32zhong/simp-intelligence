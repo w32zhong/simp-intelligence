{
 "cells": [
  {
   "cell_type": "markdown",
   "id": "165d9e21-6cd3-4bdd-8d0d-2ef059fa9a93",
   "metadata": {},
   "source": [
    "## Profile\n",
    "Paste these two blocks around the target code, and it will print the top 10 functions, sorted by cumulative call time:"
   ]
  },
  {
   "cell_type": "code",
   "execution_count": 2,
   "id": "d9f34d60-2e15-4b98-a160-34c8b58f9162",
   "metadata": {},
   "outputs": [
    {
     "name": "stdout",
     "output_type": "stream",
     "text": [
      "         46 function calls in 0.000 seconds\n",
      "\n",
      "   Ordered by: cumulative time\n",
      "   List reduced from 20 to 10 due to restriction <10>\n",
      "\n",
      "   ncalls  tottime  percall  cumtime  percall filename:lineno(function)\n",
      "        2    0.000    0.000    0.000    0.000 /home/tk/Desktop/jupyter/simp-intelligence/.pixi/envs/default/lib/python3.13/site-packages/IPython/core/interactiveshell.py:3663(run_code)\n",
      "        2    0.000    0.000    0.000    0.000 {built-in method builtins.exec}\n",
      "        1    0.000    0.000    0.000    0.000 {method 'disable' of '_lsprof.Profiler' objects}\n",
      "        2    0.000    0.000    0.000    0.000 /home/tk/Desktop/jupyter/simp-intelligence/.pixi/envs/default/lib/python3.13/codeop.py:113(__call__)\n",
      "        2    0.000    0.000    0.000    0.000 {built-in method builtins.compile}\n",
      "        2    0.000    0.000    0.000    0.000 /home/tk/Desktop/jupyter/simp-intelligence/.pixi/envs/default/lib/python3.13/contextlib.py:303(helper)\n",
      "        2    0.000    0.000    0.000    0.000 /home/tk/.local/lib/python3.13/site-packages/traitlets/traitlets.py:676(__get__)\n",
      "        4    0.000    0.000    0.000    0.000 {built-in method builtins.next}\n",
      "        2    0.000    0.000    0.000    0.000 /home/tk/Desktop/jupyter/simp-intelligence/.pixi/envs/default/lib/python3.13/contextlib.py:145(__exit__)\n",
      "        2    0.000    0.000    0.000    0.000 /home/tk/Desktop/jupyter/simp-intelligence/.pixi/envs/default/lib/python3.13/contextlib.py:136(__enter__)\n",
      "\n",
      "\n"
     ]
    },
    {
     "data": {
      "text/plain": [
       "<pstats.Stats at 0x7f74c3ff5090>"
      ]
     },
     "execution_count": 2,
     "metadata": {},
     "output_type": "execute_result"
    }
   ],
   "source": [
    "import cProfile, pstats\n",
    "\n",
    "profiler = cProfile.Profile()\n",
    "profiler.enable()\n",
    "\n",
    "import torch\n",
    "\n",
    "profiler.disable()\n",
    "pstats.Stats(profiler).sort_stats(pstats.SortKey.CUMULATIVE).print_stats(10)"
   ]
  },
  {
   "cell_type": "markdown",
   "id": "4addbc5a-526f-4547-9be2-1cf37b352ecb",
   "metadata": {},
   "source": [
    "## Print Stack"
   ]
  },
  {
   "cell_type": "code",
   "execution_count": 3,
   "id": "82b317b8-8725-43a3-91b7-de5e5938c0ef",
   "metadata": {},
   "outputs": [
    {
     "name": "stderr",
     "output_type": "stream",
     "text": [
      "  File \"<frozen runpy>\", line 198, in _run_module_as_main\n",
      "  File \"<frozen runpy>\", line 88, in _run_code\n",
      "  File \"/home/tk/Desktop/jupyter/simp-intelligence/.pixi/envs/default/lib/python3.13/site-packages/ipykernel_launcher.py\", line 18, in <module>\n",
      "    app.launch_new_instance()\n",
      "  File \"/home/tk/.local/lib/python3.13/site-packages/traitlets/config/application.py\", line 1075, in launch_instance\n",
      "    app.start()\n",
      "  File \"/home/tk/Desktop/jupyter/simp-intelligence/.pixi/envs/default/lib/python3.13/site-packages/ipykernel/kernelapp.py\", line 739, in start\n",
      "    self.io_loop.start()\n",
      "  File \"/home/tk/Desktop/jupyter/simp-intelligence/.pixi/envs/default/lib/python3.13/site-packages/tornado/platform/asyncio.py\", line 211, in start\n",
      "    self.asyncio_loop.run_forever()\n",
      "  File \"/home/tk/Desktop/jupyter/simp-intelligence/.pixi/envs/default/lib/python3.13/asyncio/base_events.py\", line 683, in run_forever\n",
      "    self._run_once()\n",
      "  File \"/home/tk/Desktop/jupyter/simp-intelligence/.pixi/envs/default/lib/python3.13/asyncio/base_events.py\", line 2042, in _run_once\n",
      "    handle._run()\n",
      "  File \"/home/tk/Desktop/jupyter/simp-intelligence/.pixi/envs/default/lib/python3.13/asyncio/events.py\", line 89, in _run\n",
      "    self._context.run(self._callback, *self._args)\n",
      "  File \"/home/tk/Desktop/jupyter/simp-intelligence/.pixi/envs/default/lib/python3.13/site-packages/ipykernel/kernelbase.py\", line 545, in dispatch_queue\n",
      "    await self.process_one()\n",
      "  File \"/home/tk/Desktop/jupyter/simp-intelligence/.pixi/envs/default/lib/python3.13/site-packages/ipykernel/kernelbase.py\", line 534, in process_one\n",
      "    await dispatch(*args)\n",
      "  File \"/home/tk/Desktop/jupyter/simp-intelligence/.pixi/envs/default/lib/python3.13/site-packages/ipykernel/kernelbase.py\", line 437, in dispatch_shell\n",
      "    await result\n",
      "  File \"/home/tk/Desktop/jupyter/simp-intelligence/.pixi/envs/default/lib/python3.13/site-packages/ipykernel/ipkernel.py\", line 362, in execute_request\n",
      "    await super().execute_request(stream, ident, parent)\n",
      "  File \"/home/tk/Desktop/jupyter/simp-intelligence/.pixi/envs/default/lib/python3.13/site-packages/ipykernel/kernelbase.py\", line 778, in execute_request\n",
      "    reply_content = await reply_content\n",
      "  File \"/home/tk/Desktop/jupyter/simp-intelligence/.pixi/envs/default/lib/python3.13/site-packages/ipykernel/ipkernel.py\", line 449, in do_execute\n",
      "    res = shell.run_cell(\n",
      "  File \"/home/tk/Desktop/jupyter/simp-intelligence/.pixi/envs/default/lib/python3.13/site-packages/ipykernel/zmqshell.py\", line 549, in run_cell\n",
      "    return super().run_cell(*args, **kwargs)\n",
      "  File \"/home/tk/Desktop/jupyter/simp-intelligence/.pixi/envs/default/lib/python3.13/site-packages/IPython/core/interactiveshell.py\", line 3116, in run_cell\n",
      "    result = self._run_cell(\n",
      "  File \"/home/tk/Desktop/jupyter/simp-intelligence/.pixi/envs/default/lib/python3.13/site-packages/IPython/core/interactiveshell.py\", line 3171, in _run_cell\n",
      "    result = runner(coro)\n",
      "  File \"/home/tk/Desktop/jupyter/simp-intelligence/.pixi/envs/default/lib/python3.13/site-packages/IPython/core/async_helpers.py\", line 128, in _pseudo_sync_runner\n",
      "    coro.send(None)\n",
      "  File \"/home/tk/Desktop/jupyter/simp-intelligence/.pixi/envs/default/lib/python3.13/site-packages/IPython/core/interactiveshell.py\", line 3394, in run_cell_async\n",
      "    has_raised = await self.run_ast_nodes(code_ast.body, cell_name,\n",
      "  File \"/home/tk/Desktop/jupyter/simp-intelligence/.pixi/envs/default/lib/python3.13/site-packages/IPython/core/interactiveshell.py\", line 3639, in run_ast_nodes\n",
      "    if await self.run_code(code, result, async_=asy):\n",
      "  File \"/home/tk/Desktop/jupyter/simp-intelligence/.pixi/envs/default/lib/python3.13/site-packages/IPython/core/interactiveshell.py\", line 3699, in run_code\n",
      "    exec(code_obj, self.user_global_ns, self.user_ns)\n",
      "  File \"/tmp/ipykernel_139518/3899029333.py\", line 2, in <module>\n",
      "    traceback.print_stack()\n"
     ]
    }
   ],
   "source": [
    "import traceback\n",
    "traceback.print_stack()"
   ]
  },
  {
   "cell_type": "markdown",
   "id": "dcfa6238-ece3-42e2-a8c2-67e2b1bbbf23",
   "metadata": {},
   "source": [
    "## Remote PDB"
   ]
  },
  {
   "cell_type": "code",
   "execution_count": 28,
   "id": "683647fa-d671-40df-8a00-1508d9a6b02b",
   "metadata": {},
   "outputs": [
    {
     "name": "stderr",
     "output_type": "stream",
     "text": [
      "pdb is running on 127.0.0.1:4444\n"
     ]
    },
    {
     "name": "stdout",
     "output_type": "stream",
     "text": [
      "hello bob\n"
     ]
    }
   ],
   "source": [
    "from multiprocessing import Process\n",
    "\n",
    "def process_that_regular_breakpoint_fails(name):\n",
    "    import rpdb; rpdb.set_trace() # oneliner, default port 4444\n",
    "    print('hello', name)\n",
    "\n",
    "p = Process(target=process_that_regular_breakpoint_fails, args=('bob',))\n",
    "p.start()"
   ]
  },
  {
   "cell_type": "code",
   "execution_count": 29,
   "id": "db3b7db4-e04f-416c-b75d-62c669c17884",
   "metadata": {},
   "outputs": [
    {
     "name": "stdout",
     "output_type": "stream",
     "text": [
      "> \u001b[32m/tmp/ipykernel_11145/990822368.py\u001b[39m(\u001b[92m4\u001b[39m)\u001b[36mprocess_that_regular_breakpoint_fails\u001b[39m\u001b[34m()\u001b[39m\n",
      "\u001b[32m      2\u001b[39m \n",
      "\u001b[32m      3\u001b[39m \u001b[38;5;28;01mdef\u001b[39;00m process_that_regular_breakpoint_fails(name):\n",
      "\u001b[32m----> 4\u001b[39m     \u001b[38;5;28;01mimport\u001b[39;00m rpdb; rpdb.set_trace() \u001b[38;5;66;03m# oneliner, default port 4444\u001b[39;00m\n",
      "\u001b[32m      5\u001b[39m     print(\u001b[33m'hello'\u001b[39m, name)\n",
      "\u001b[32m      6\u001b[39m \n",
      "\n",
      "ipdb> \u001b[92m      1\u001b[39m \u001b[38;5;28;01mfrom\u001b[39;00m multiprocessing \u001b[38;5;28;01mimport\u001b[39;00m Process\n",
      "\u001b[92m      2\u001b[39m \n",
      "\u001b[92m      3\u001b[39m \u001b[38;5;28;01mdef\u001b[39;00m process_that_regular_breakpoint_fails(name):\n",
      "\u001b[32m----> 4\u001b[39m     \u001b[38;5;28;01mimport\u001b[39;00m rpdb; rpdb.set_trace() \u001b[38;5;66;03m# oneliner, default port 4444\u001b[39;00m\n",
      "\u001b[92m      5\u001b[39m     print(\u001b[33m'hello'\u001b[39m, name)\n",
      "\u001b[92m      6\u001b[39m \n",
      "\u001b[92m      7\u001b[39m p = Process(target=process_that_regular_breakpoint_fails, args=(\u001b[33m'bob'\u001b[39m,))\n",
      "\u001b[92m      8\u001b[39m p.start()\n",
      "\n",
      "ipdb> \u001b[31m    [... skipping 22 hidden frame(s)]\u001b[39m\n",
      "  \u001b[32m/tmp/ipykernel_11145/990822368.py\u001b[39m(\u001b[92m8\u001b[39m)\u001b[36m<module>\u001b[39m\u001b[34m()\u001b[39m\n",
      "\u001b[92m      4\u001b[39m \u001b[31m    \u001b[38;5;28;01mimport\u001b[39;00m rpdb; rpdb.set_trace() \u001b[38;5;66;03m# oneliner, default port 4444\u001b[39;00m\u001b[39m\n",
      "\u001b[92m      5\u001b[39m \u001b[31m    print(\u001b[33m'hello'\u001b[39m, name)\u001b[39m\n",
      "\u001b[92m      6\u001b[39m \n",
      "\u001b[92m      7\u001b[39m \u001b[31mp = Process(target=process_that_regular_breakpoint_fails, args=(\u001b[33m'bob'\u001b[39m,))\u001b[39m\n",
      "\u001b[32m----> 8\u001b[39m p.start()\n",
      "  \u001b[32m/home/tk/Desktop/jupyter/simp-intelligence/.pixi/envs/default/lib/python3.13/multiprocessing/process.py\u001b[39m(\u001b[92m121\u001b[39m)\u001b[36mstart\u001b[39m\u001b[34m()\u001b[39m\n",
      "\u001b[92m    119\u001b[39m \u001b[31m               \u001b[33m'daemonic processes are not allowed to have children'\u001b[39m\u001b[39m\n",
      "\u001b[92m    120\u001b[39m \u001b[31m        _cleanup()\u001b[39m\n",
      "\u001b[32m--> 121\u001b[39m         self._popen = self._Popen(self)\n",
      "\u001b[92m    122\u001b[39m \u001b[31m        self._sentinel = self._popen.sentinel\u001b[39m\n",
      "\u001b[92m    123\u001b[39m \u001b[31m        \u001b[38;5;66;03m# Avoid a refcycle if the target function holds an indirect\u001b[39;00m\u001b[39m\n",
      "  \u001b[32m/home/tk/Desktop/jupyter/simp-intelligence/.pixi/envs/default/lib/python3.13/multiprocessing/context.py\u001b[39m(\u001b[92m224\u001b[39m)\u001b[36m_Popen\u001b[39m\u001b[34m()\u001b[39m\n",
      "\u001b[92m    222\u001b[39m \u001b[31m    @staticmethod\u001b[39m\n",
      "\u001b[92m    223\u001b[39m \u001b[31m    \u001b[38;5;28;01mdef\u001b[39;00m _Popen(process_obj):\u001b[39m\n",
      "\u001b[32m--> 224\u001b[39m         \u001b[38;5;28;01mreturn\u001b[39;00m _default_context.get_context().Process._Popen(process_obj)\n",
      "\u001b[92m    225\u001b[39m \n",
      "\u001b[92m    226\u001b[39m \u001b[31m    @staticmethod\u001b[39m\n",
      "  \u001b[32m/home/tk/Desktop/jupyter/simp-intelligence/.pixi/envs/default/lib/python3.13/multiprocessing/context.py\u001b[39m(\u001b[92m282\u001b[39m)\u001b[36m_Popen\u001b[39m\u001b[34m()\u001b[39m\n",
      "\u001b[92m    280\u001b[39m \u001b[31m        \u001b[38;5;28;01mdef\u001b[39;00m _Popen(process_obj):\u001b[39m\n",
      "\u001b[92m    281\u001b[39m \u001b[31m            \u001b[38;5;28;01mfrom\u001b[39;00m .popen_fork \u001b[38;5;28;01mimport\u001b[39;00m Popen\u001b[39m\n",
      "\u001b[32m--> 282\u001b[39m             \u001b[38;5;28;01mreturn\u001b[39;00m Popen(process_obj)\n",
      "\u001b[92m    283\u001b[39m \n",
      "\u001b[92m    284\u001b[39m \u001b[31m    \u001b[38;5;28;01mclass\u001b[39;00m SpawnProcess(process.BaseProcess):\u001b[39m\n",
      "  \u001b[32m/home/tk/Desktop/jupyter/simp-intelligence/.pixi/envs/default/lib/python3.13/multiprocessing/popen_fork.py\u001b[39m(\u001b[92m20\u001b[39m)\u001b[36m__init__\u001b[39m\u001b[34m()\u001b[39m\n",
      "\u001b[92m     18\u001b[39m \u001b[31m        self.returncode = \u001b[38;5;28;01mNone\u001b[39;00m\u001b[39m\n",
      "\u001b[92m     19\u001b[39m \u001b[31m        self.finalizer = \u001b[38;5;28;01mNone\u001b[39;00m\u001b[39m\n",
      "\u001b[32m---> 20\u001b[39m         self._launch(process_obj)\n",
      "\u001b[92m     21\u001b[39m \n",
      "\u001b[92m     22\u001b[39m \u001b[31m    \u001b[38;5;28;01mdef\u001b[39;00m duplicate_for_child(self, fd):\u001b[39m\n",
      "  \u001b[32m/home/tk/Desktop/jupyter/simp-intelligence/.pixi/envs/default/lib/python3.13/multiprocessing/popen_fork.py\u001b[39m(\u001b[92m74\u001b[39m)\u001b[36m_launch\u001b[39m\u001b[34m()\u001b[39m\n",
      "\u001b[92m     72\u001b[39m \u001b[31m                os.close(parent_r)\u001b[39m\n",
      "\u001b[92m     73\u001b[39m \u001b[31m                os.close(parent_w)\u001b[39m\n",
      "\u001b[32m---> 74\u001b[39m                 code = process_obj._bootstrap(parent_sentinel=child_r)\n",
      "\u001b[92m     75\u001b[39m \u001b[31m            \u001b[38;5;28;01mfinally\u001b[39;00m:\u001b[39m\n",
      "\u001b[92m     76\u001b[39m \u001b[31m                atexit._run_exitfuncs()\u001b[39m\n",
      "  \u001b[32m/home/tk/Desktop/jupyter/simp-intelligence/.pixi/envs/default/lib/python3.13/multiprocessing/process.py\u001b[39m(\u001b[92m313\u001b[39m)\u001b[36m_bootstrap\u001b[39m\u001b[34m()\u001b[39m\n",
      "\u001b[92m    311\u001b[39m \u001b[31m                \u001b[38;5;28;01mdel\u001b[39;00m old_process\u001b[39m\n",
      "\u001b[92m    312\u001b[39m \u001b[31m            util.info(\u001b[33m'child process calling self.run()'\u001b[39m)\u001b[39m\n",
      "\u001b[32m--> 313\u001b[39m             self.run()\n",
      "\u001b[92m    314\u001b[39m \u001b[31m            exitcode = \u001b[32m0\u001b[39m\u001b[39m\n",
      "\u001b[92m    315\u001b[39m \u001b[31m        \u001b[38;5;28;01mexcept\u001b[39;00m SystemExit \u001b[38;5;28;01mas\u001b[39;00m e:\u001b[39m\n",
      "  \u001b[32m/home/tk/Desktop/jupyter/simp-intelligence/.pixi/envs/default/lib/python3.13/multiprocessing/process.py\u001b[39m(\u001b[92m108\u001b[39m)\u001b[36mrun\u001b[39m\u001b[34m()\u001b[39m\n",
      "\u001b[92m    106\u001b[39m \u001b[31m        '''\u001b[39m\n",
      "\u001b[92m    107\u001b[39m \u001b[31m        \u001b[38;5;28;01mif\u001b[39;00m self._target:\u001b[39m\n",
      "\u001b[32m--> 108\u001b[39m             self._target(*self._args, **self._kwargs)\n",
      "\u001b[92m    109\u001b[39m \n",
      "\u001b[92m    110\u001b[39m \u001b[31m    \u001b[38;5;28;01mdef\u001b[39;00m start(self):\u001b[39m\n",
      "> \u001b[32m/tmp/ipykernel_11145/990822368.py\u001b[39m(\u001b[92m4\u001b[39m)\u001b[36mprocess_that_regular_breakpoint_fails\u001b[39m\u001b[34m()\u001b[39m\n",
      "\u001b[32m      2\u001b[39m \n",
      "\u001b[32m      3\u001b[39m \u001b[38;5;28;01mdef\u001b[39;00m process_that_regular_breakpoint_fails(name):\n",
      "\u001b[32m----> 4\u001b[39m     \u001b[38;5;28;01mimport\u001b[39;00m rpdb; rpdb.set_trace() \u001b[38;5;66;03m# oneliner, default port 4444\u001b[39;00m\n",
      "\u001b[32m      5\u001b[39m     print(\u001b[33m'hello'\u001b[39m, name)\n",
      "\u001b[32m      6\u001b[39m \n",
      "\n",
      "ipdb> "
     ]
    }
   ],
   "source": [
    "! echo -e \"list\\n\" \"bt\\n\" \"continue\\n\" | nc 127.0.0.1 4444 # list, backtrack, and continue"
   ]
  },
  {
   "cell_type": "markdown",
   "id": "5c016cb7-0049-40fd-9f1e-7703d02be4b6",
   "metadata": {},
   "source": [
    "## Reference\n",
    "1. https://adamj.eu/tech/2023/07/23/python-profile-section-cprofile/"
   ]
  }
 ],
 "metadata": {
  "kernelspec": {
   "display_name": "Python 3 (ipykernel)",
   "language": "python",
   "name": "python3"
  },
  "language_info": {
   "codemirror_mode": {
    "name": "ipython",
    "version": 3
   },
   "file_extension": ".py",
   "mimetype": "text/x-python",
   "name": "python",
   "nbconvert_exporter": "python",
   "pygments_lexer": "ipython3",
   "version": "3.13.7"
  }
 },
 "nbformat": 4,
 "nbformat_minor": 5
}
