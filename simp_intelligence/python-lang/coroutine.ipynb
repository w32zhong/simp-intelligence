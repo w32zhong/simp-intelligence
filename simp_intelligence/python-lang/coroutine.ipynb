{
 "cells": [
  {
   "cell_type": "markdown",
   "id": "d406d85f-e8b8-4c47-b47e-cbe48c588d75",
   "metadata": {},
   "source": [
    "Coroutine is executing only one code at any given time, it is only useful when your code has `asynio.sleep()`: "
   ]
  },
  {
   "cell_type": "code",
   "execution_count": 27,
   "id": "f370dc57-bf53-4000-b4b0-10904cc56a06",
   "metadata": {},
   "outputs": [
    {
     "name": "stdout",
     "output_type": "stream",
     "text": [
      "<coroutine object hello_world_after at 0x7f1e1035e2c0>\n",
      "hello\n",
      "world\n"
     ]
    }
   ],
   "source": [
    "import nest_asyncio\n",
    "nest_asyncio.apply() # to run asyncio in Jupyter environment under a running event loop\n",
    "\n",
    "import asyncio\n",
    "\n",
    "async def hello_world_after(delay):\n",
    "    print('hello')\n",
    "    await asyncio.sleep(delay)\n",
    "    print('world')\n",
    "\n",
    "coroutine = hello_world_after(1)\n",
    "print(coroutine)\n",
    "asyncio.run(coroutine)"
   ]
  },
  {
   "cell_type": "code",
   "execution_count": 28,
   "id": "fc49d668-d571-45a8-8798-c16f3e798a5f",
   "metadata": {},
   "outputs": [
    {
     "name": "stdout",
     "output_type": "stream",
     "text": [
      "hello\n",
      "world\n",
      "hello\n",
      "world\n"
     ]
    }
   ],
   "source": [
    "await hello_world_after(1)\n",
    "await hello_world_after(2)"
   ]
  },
  {
   "cell_type": "code",
   "execution_count": 29,
   "id": "38a67524-93b8-4e84-93ef-739ae810971c",
   "metadata": {},
   "outputs": [
    {
     "name": "stdout",
     "output_type": "stream",
     "text": [
      "hello\n",
      "hello\n",
      "world\n",
      "world\n",
      "task2 done\n"
     ]
    }
   ],
   "source": [
    "task1 = asyncio.create_task(hello_world_after(1))\n",
    "task2 = asyncio.create_task(hello_world_after(2))\n",
    "await task2\n",
    "print('task2 done')"
   ]
  },
  {
   "cell_type": "code",
   "execution_count": 30,
   "id": "ebbdf4df-05fa-4b84-97c4-6969a4590bce",
   "metadata": {},
   "outputs": [
    {
     "name": "stdout",
     "output_type": "stream",
     "text": [
      "hello\n",
      "hello\n",
      "world\n",
      "world\n",
      "all tasks done\n"
     ]
    }
   ],
   "source": [
    "await asyncio.gather(hello_world_after(1), hello_world_after(2))\n",
    "print('all tasks done')"
   ]
  },
  {
   "cell_type": "markdown",
   "id": "2b3a0e1f-7f4a-44f2-9fad-c1b37fac26e1",
   "metadata": {},
   "source": [
    "## Reference\n",
    "[1] https://www.youtube.com/watch?v=brYsDi-JajI"
   ]
  }
 ],
 "metadata": {
  "kernelspec": {
   "display_name": "Python 3 (ipykernel)",
   "language": "python",
   "name": "python3"
  },
  "language_info": {
   "codemirror_mode": {
    "name": "ipython",
    "version": 3
   },
   "file_extension": ".py",
   "mimetype": "text/x-python",
   "name": "python",
   "nbconvert_exporter": "python",
   "pygments_lexer": "ipython3",
   "version": "3.13.5"
  }
 },
 "nbformat": 4,
 "nbformat_minor": 5
}
