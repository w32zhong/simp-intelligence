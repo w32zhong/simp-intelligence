{
 "cells": [
  {
   "cell_type": "markdown",
   "id": "e2462091",
   "metadata": {},
   "source": [
    "A linear layer computes $y_{m \\times 1} = W_{m \\times n} x_{n \\times 1} + b_{m \\times 1}$, where\n",
    "\n",
    "$$\n",
    "W = \\begin{bmatrix}\n",
    "W_{1,1} & W_{1, 2} & ... & W_{1, n} \\\\\n",
    "W_{2,1} & W_{2, 2} & ... & W_{2, n} \\\\\n",
    "\\vdots \\\\\n",
    "W_{m,1} & W_{m, 2} & ... & W_{m, n}\n",
    "\\end{bmatrix}\n",
    "$$\n"
   ]
  },
  {
   "cell_type": "markdown",
   "id": "8cd30fde",
   "metadata": {},
   "source": [
    "## Gradients w.r.t. $W$\n",
    "Because $y_i = W_{i,1} x_1 + W_{i,2} x_2 + ... + W_{i,n} x_n + b_i$, we have\n",
    "$\\partial y_i / \\partial W_{i,j} = x_j$ and\n",
    "$\\partial y_k / \\partial W_{i,j} = 0$ for $k \\not= i$.\n",
    "\n",
    "When we \"flatten\" the $W$ into a \"long vector\" $w$, the Jacobian w.r.t. $w$ then becomes:\n",
    "$$\n",
    "J_w = \\begin{bmatrix}\n",
    "x_1 & x_2 & ... & x_n &   0 &   0 & ... &   0 &  0  & 0   & 0   \\\\\n",
    "0   & 0   & ... & 0   & x_1 & x_2 & ... &   0 &  0  & 0   & 0   \\\\\n",
    "\\vdots \\\\\n",
    "0   & 0   & ... & 0   & 0   & 0   & ... & x_1 & x_2 & ... & x_n\n",
    "\\end{bmatrix}_{m \\times (mn)}\n",
    "$$\n"
   ]
  },
  {
   "cell_type": "markdown",
   "id": "cf5e9877",
   "metadata": {},
   "source": [
    "If we chain the gradient product (assuming the final loss is scaler $\\ell$):\n",
    "$$\n",
    "\\nabla^T_w \\ell = \\nabla^T_y \\ell \\cdot J_w =\n",
    "\\begin{bmatrix}\n",
    "x_1 \\frac{\\partial \\ell}{\\partial y_1} & x_2 \\frac{\\partial \\ell}{\\partial y_1} & ... & x_n \\frac{\\partial \\ell}{\\partial y_1} &\n",
    "x_1 \\frac{\\partial \\ell}{\\partial y_2} & x_2 \\frac{\\partial \\ell}{\\partial y_2} & ... & x_n \\frac{\\partial \\ell}{\\partial y_2} &\n",
    "...\n",
    "\\end{bmatrix}_{1 \\times (mn)}\n",
    "$$\n"
   ]
  },
  {
   "cell_type": "markdown",
   "id": "4123b014",
   "metadata": {},
   "source": [
    "As it is a recycling patten, we can \"unroll\" the Jacobian to a matrix so that it matches the dimension of $W$:\n",
    "$$\n",
    "\\nabla_W \\ell =\n",
    "\\begin{bmatrix}\n",
    "x_1 \\frac{\\partial \\ell}{\\partial y_1} & x_2 \\frac{\\partial \\ell}{\\partial y_1} & ... & x_n \\frac{\\partial \\ell}{\\partial y_1} \\\\\n",
    "x_1 \\frac{\\partial \\ell}{\\partial y_2} & x_2 \\frac{\\partial \\ell}{\\partial y_2} & ... & x_n \\frac{\\partial \\ell}{\\partial y_2} \\\\\n",
    "\\vdots\n",
    "\\end{bmatrix}_{m \\times n}\n",
    "= (\\nabla_y \\ell)_{m \\times 1} \\cdot (x^T)_{1 \\times n}\n",
    "$$"
   ]
  },
  {
   "cell_type": "markdown",
   "id": "83825c6d",
   "metadata": {},
   "source": [
    "## Gradients w.r.t. $b$\n",
    "Because $y_i = W_{i,1} x_1 + W_{i,2} x_2 + ... + W_{i,n} x_n + b_i$, the Jacobian w.r.t. $b$ is an identity matrix $E$:\n",
    "$$\n",
    "\\tag{2}\n",
    "\\nabla^T_b \\ell = \\nabla^T_y \\ell \\cdot J_b =\n",
    "\\nabla^T_y \\ell \\cdot E = \\nabla^T_y \\ell\n",
    "$$\n"
   ]
  },
  {
   "cell_type": "markdown",
   "id": "6858e8c3",
   "metadata": {},
   "source": [
    "## Gradients w.r.t. $x$\n",
    "The Jacobian w.r.t. $W$ is, according to $y_i = W_{i,1} x_1 + W_{i,2} x_2 + ... + W_{i,n} x_n + b_i$,\n",
    "\n",
    "$$\n",
    "J_x = \\begin{bmatrix}\n",
    "\\frac{\\partial y_1}{\\partial x_1} & \\frac{\\partial y_1}{\\partial x_2} & ... & \\frac{\\partial y_1}{\\partial x_n} \\\\\n",
    "\\frac{\\partial y_2}{\\partial x_1} & \\frac{\\partial y_2}{\\partial x_2} & ... & \\frac{\\partial y_2}{\\partial x_n} \\\\\n",
    "\\vdots & \\ddots \\\\\n",
    "\\frac{\\partial y_m}{\\partial x_1} & \\frac{\\partial y_m}{\\partial x_2} & ... & \\frac{\\partial y_m}{\\partial x_n}\n",
    "\\end{bmatrix}\n",
    "=\n",
    "\\begin{bmatrix}\n",
    "W_{1,1} & W_{1, 2} & ... & W_{1, n} \\\\\n",
    "W_{2,1} & W_{2, 2} & ... & W_{2, n} \\\\\n",
    "\\vdots \\\\\n",
    "W_{m,1} & W_{m, 2} & ... & W_{m, n}\n",
    "\\end{bmatrix}\n",
    "= W\n",
    "$$\n",
    "as a result,\n",
    "$$\n",
    "\\tag{3}\n",
    "\\nabla^T_x \\ell = \\nabla^T_y \\ell \\cdot W\n",
    "$$"
   ]
  }
 ],
 "metadata": {
  "kernelspec": {
   "display_name": "Python 3 (ipykernel)",
   "language": "python",
   "name": "python3"
  }
 },
 "nbformat": 4,
 "nbformat_minor": 5
}
