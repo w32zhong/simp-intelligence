{
 "cells": [
  {
   "cell_type": "markdown",
   "id": "2b0684a5",
   "metadata": {},
   "source": [
    "# Lipschitz continuity"
   ]
  },
  {
   "cell_type": "code",
   "execution_count": null,
   "id": "213dee1f",
   "metadata": {},
   "outputs": [],
   "source": [
    "import numpy as np\n",
    "import matplotlib.pyplot as plt\n",
    "\n",
    "x = np.linspace(0, 10, 400)\n",
    "plt.plot(x, np.sqrt(x))\n",
    "plt.show()"
   ]
  },
  {
   "cell_type": "markdown",
   "id": "fcbfc6e8",
   "metadata": {},
   "source": [
    "Above is the function $\\sqrt{x}$, it is obviously continous in $x \\ge 0$ because $\\lim_{x \\to a} \\sqrt{x} = \\sqrt{a}$.\n",
    "\n",
    "However, it is not *Lipschitz continuous*.\n",
    "For Lipschitz continuity, it has to satisfy so what"
   ]
  },
  {
   "cell_type": "code",
   "execution_count": null,
   "id": "109b80b0",
   "metadata": {},
   "outputs": [],
   "source": []
  }
 ],
 "metadata": {
  "kernelspec": {
   "display_name": "Python 3 (ipykernel)",
   "language": "python",
   "name": "python3"
  }
 },
 "nbformat": 4,
 "nbformat_minor": 5
}
