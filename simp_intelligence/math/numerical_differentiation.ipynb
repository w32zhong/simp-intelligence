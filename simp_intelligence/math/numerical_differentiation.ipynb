{
 "cells": [
  {
   "cell_type": "markdown",
   "id": "30ed3533-de50-4d62-bd75-a5dbf0642d22",
   "metadata": {},
   "source": [
    "## Method 1: Forward Difference"
   ]
  },
  {
   "cell_type": "markdown",
   "id": "89c7184f-af5d-4172-a47f-e6d550d799e9",
   "metadata": {},
   "source": [
    "$$\n",
    "\\tag{1}\n",
    "\\frac{\\partial f(\\theta)}{\\partial \\theta_i}\n",
    "  = \\lim_{\\epsilon \\to 0}\n",
    "    \\frac{f(\\theta + \\epsilon e_i) - f(\\theta)}{\\epsilon}\n",
    "$$\n",
    "where $e_i$ is the *i-th* coordinate basis vector."
   ]
  },
  {
   "cell_type": "markdown",
   "id": "3d39a3b7-1707-4b4b-8e08-bb4b22ff3fbb",
   "metadata": {},
   "source": [
    "Let $g(\\epsilon) = f(\\theta + \\epsilon)$, according to Taylor expansion:\n",
    "$$\n",
    "g(\\epsilon)=g(0)+g'(0)\\,\\epsilon+\\frac{g''(0)}{2!}\\,\\epsilon^{2}+O(\\epsilon^{3})\n",
    "$$"
   ]
  },
  {
   "cell_type": "markdown",
   "id": "84744815-4ed2-46f2-811f-4dc7dfeeba00",
   "metadata": {},
   "source": [
    "then the fraction in Eq. (1) becomes\n",
    "$$\n",
    "\\frac{f(\\theta + \\epsilon e_i) - f(\\theta)}{\\epsilon} =\n",
    "\\frac{g(\\epsilon) - g(0)}{\\epsilon} = g'(0) + \\frac{g''(0)}{2!}\\,\\epsilon+O(\\epsilon^{2})\n",
    "$$"
   ]
  },
  {
   "cell_type": "markdown",
   "id": "6e1a99b8-c87e-45b6-a3e0-b742bfbbef5f",
   "metadata": {},
   "source": [
    "By definition, $g'(0)$ is the derivation $\\frac{\\partial f(\\theta)}{\\partial \\theta_i}$, so the truncation error is $\\frac{g''(0)}{2!}\\,\\epsilon+O(\\epsilon^{2}) = O(\\epsilon)$."
   ]
  },
  {
   "cell_type": "markdown",
   "id": "271024d3-bbd2-435d-8c36-c17fef70c1d0",
   "metadata": {},
   "source": [
    "## Method 2: Central Difference"
   ]
  },
  {
   "cell_type": "markdown",
   "id": "fd681117-a503-4a9b-82a1-606d8bc6ef46",
   "metadata": {},
   "source": [
    "$$\n",
    "\\tag{2}\n",
    "\\frac{\\partial f(\\theta)}{\\partial \\theta_i}\n",
    "  = \\frac{f(\\theta + \\epsilon e_i) - f(\\theta - \\epsilon e_i)}{2\\epsilon}\n",
    "    + o(\\epsilon^{2})\n",
    "$$"
   ]
  },
  {
   "cell_type": "markdown",
   "id": "5505be55-b07f-4b52-b09c-ed6191533cd5",
   "metadata": {},
   "source": [
    "Method 2 is more accurate and is used often in practice. Why?"
   ]
  },
  {
   "cell_type": "markdown",
   "id": "116fe615-5f93-40a5-84a6-b2a7892b6df8",
   "metadata": {},
   "source": [
    "Because, similarly, the fraction in Eq. (2) is essentially\n",
    "$$\n",
    "\\frac{f(\\theta + \\epsilon e_i) - f(\\theta - \\epsilon e_i)}{2\\epsilon} = \\frac{g(\\epsilon) - g(-\\epsilon)}{2 \\epsilon}\n",
    "$$"
   ]
  },
  {
   "cell_type": "markdown",
   "id": "0a8d1a84-2df9-49d0-98da-2413d23e77db",
   "metadata": {},
   "source": [
    "where\n",
    "$$\n",
    "\\begin{align}\n",
    "g(\\epsilon) &= g(0) + g'(0)\\,\\epsilon+\\frac{g''(0)}{2!}\\,\\epsilon^{2}+O(\\epsilon^{3}) \\\\\n",
    "g(-\\epsilon) &= g(0) - g'(0)\\,\\epsilon+\\frac{g''(0)}{2!}\\,\\epsilon^{2}-O(\\epsilon^{3}) \\\\\n",
    "\\end{align}\n",
    "$$"
   ]
  },
  {
   "cell_type": "markdown",
   "id": "dcfb6e92-da59-434d-a01a-093a5f563699",
   "metadata": {},
   "source": [
    "so it follows\n",
    "$$\n",
    "\\frac{g(\\epsilon) - g(-\\epsilon)}{2 \\epsilon} = \\frac{2 g'(0) \\epsilon + 2 O(\\epsilon^3)}{2 \\epsilon} = g'(0) + O(\\epsilon^2)\n",
    "$$\n",
    "and obviously the truncation error is $O(\\epsilon^2)$ which is less than the truncation error of forward difference when $\\epsilon \\to 0$."
   ]
  }
 ],
 "metadata": {
  "kernelspec": {
   "display_name": "Python 3 (ipykernel)",
   "language": "python",
   "name": "python3"
  },
  "language_info": {
   "codemirror_mode": {
    "name": "ipython",
    "version": 3
   },
   "file_extension": ".py",
   "mimetype": "text/x-python",
   "name": "python",
   "nbconvert_exporter": "python",
   "pygments_lexer": "ipython3",
   "version": "3.13.5"
  }
 },
 "nbformat": 4,
 "nbformat_minor": 5
}
