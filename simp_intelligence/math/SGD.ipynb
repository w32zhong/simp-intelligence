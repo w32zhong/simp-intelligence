{
 "cells": [
  {
   "cell_type": "markdown",
   "id": "b2ce5460",
   "metadata": {},
   "source": [
    "## Gradient Descent (GD)\n",
    "Assume $D$ is data, and its size is $N$. The overall averaged loss is:"
   ]
  },
  {
   "cell_type": "markdown",
   "id": "3bea016b",
   "metadata": {},
   "source": [
    "$$\n",
    "L_D = \\frac 1N \\sum_i^N L(\\theta, D_i)\n",
    "$$"
   ]
  },
  {
   "cell_type": "markdown",
   "id": "ba068647",
   "metadata": {},
   "source": [
    "The gradients update is then depending on calculating\n",
    "$$\n",
    "\\nabla_\\theta L_D = \\frac 1N \\sum_i^N \\nabla_\\theta L(\\theta, D_i) \n",
    "$$\n",
    "which for this single-step update is prohibitive given $N$ is large.\n",
    "\n",
    "## Stochastic Gradient Descent (SGD)\n",
    "So we have the oftenly used batched version (batch size = $B$):\n",
    "$$\n",
    "\\nabla_\\theta L_D = \\mathbb{E}_{D_i \\sim \\mathcal{D}} [\\nabla_\\theta L(\\theta, D_i) ] = \\frac 1B \\sum_i^B \\nabla_\\theta L(\\theta, D_i) \n",
    "$$\n",
    "\n",
    "When $B=1$, it is called Stochastic Gradient Descent (SGD), and when $B$ is a slightly larger size, it is called Mini-Batch Stochastic Gradient Descent, often also referred as SGD."
   ]
  }
 ],
 "metadata": {
  "kernelspec": {
   "display_name": "Python 3 (ipykernel)",
   "language": "python",
   "name": "python3"
  },
  "language_info": {
   "codemirror_mode": {
    "name": "ipython",
    "version": 3
   },
   "file_extension": ".py",
   "mimetype": "text/x-python",
   "name": "python",
   "nbconvert_exporter": "python",
   "pygments_lexer": "ipython3",
   "version": "3.13.5"
  }
 },
 "nbformat": 4,
 "nbformat_minor": 5
}
