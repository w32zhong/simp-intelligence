{
 "cells": [
  {
   "cell_type": "markdown",
   "id": "8dd68166-a7b7-41fd-bbc1-061ab1b3f3ef",
   "metadata": {},
   "source": [
    "## Load Mojo Kernels"
   ]
  },
  {
   "cell_type": "code",
   "execution_count": 2,
   "id": "ec5e69b8-e14d-4e77-9965-0979d23c8160",
   "metadata": {},
   "outputs": [],
   "source": [
    "import os, numpy, torch\n",
    "from pathlib import Path\n",
    "from max.torch import CustomOpLibrary\n",
    "\n",
    "assert torch.cuda.is_available()\n",
    "op_dir = os.path.abspath('operations')"
   ]
  },
  {
   "cell_type": "markdown",
   "id": "99273aef-9df8-4654-9daf-90f9b4c0174a",
   "metadata": {},
   "source": [
    "## Simple `add_one` Operation"
   ]
  },
  {
   "cell_type": "code",
   "execution_count": 2,
   "id": "0cd917d2-a609-463a-806a-604a531b254a",
   "metadata": {},
   "outputs": [],
   "source": [
    "op_lib = CustomOpLibrary(Path(op_dir))\n",
    "add_one = op_lib.my_add_constant[{\"value\": 1}]"
   ]
  },
  {
   "cell_type": "code",
   "execution_count": 3,
   "id": "0f452223-31b4-47b4-9393-d594edfe904c",
   "metadata": {},
   "outputs": [
    {
     "name": "stdout",
     "output_type": "stream",
     "text": [
      "torch_add_one cpu tensor([1001., 1001., 1001.,  ..., 1001., 1001., 1001.]) 0.003813645918853581\n",
      "mojo_add_one cpu tensor([1001., 1001., 1001.,  ..., 1001., 1001., 1001.]) 0.15939615399111062\n",
      "torch_add_one cuda tensor([1001., 1001., 1001.,  ..., 1001., 1001., 1001.], device='cuda:0') 0.008109500049613416\n",
      "mojo_add_one cuda tensor([1001., 1001., 1001.,  ..., 1001., 1001., 1001.], device='cuda:0') 0.23655258293729275\n"
     ]
    }
   ],
   "source": [
    "import time\n",
    "\n",
    "def torch_add_one(inputs):\n",
    "    return inputs + 1\n",
    "\n",
    "def mojo_add_one(inputs):\n",
    "    outputs = torch.zeros_like(inputs)\n",
    "    add_one(outputs, inputs)\n",
    "    return outputs\n",
    "\n",
    "for device in [\"cpu\", \"cuda\"]:\n",
    "    for op in [torch_add_one, mojo_add_one]:\n",
    "        x = torch.zeros(1024, device=device)\n",
    "        x = op(x) # warm-up\n",
    "        start = time.perf_counter()\n",
    "        for _ in range(1000):\n",
    "            x = op(x)\n",
    "        end = time.perf_counter()\n",
    "        print(op.__name__, device, x, end - start)"
   ]
  },
  {
   "cell_type": "markdown",
   "id": "ea389f7b-411d-4e4a-92f9-8b9bd55c7213",
   "metadata": {},
   "source": [
    "## Different MatMul Operations"
   ]
  },
  {
   "cell_type": "code",
   "execution_count": 119,
   "id": "ab358e3e-c603-4d58-bbe3-280dbb41d235",
   "metadata": {},
   "outputs": [],
   "source": [
    "from max.driver import CPU, Accelerator, accelerator_count, Tensor\n",
    "import torch\n",
    "M = 4096\n",
    "K = 6144\n",
    "N = 2048\n",
    "device = CPU() if accelerator_count() == 0 else Accelerator()\n",
    "torch_A = torch.randn(M, K)\n",
    "torch_B = torch.randn(K, N)\n",
    "torch_result = (torch_A @ torch_B).numpy()\n",
    "A = Tensor.from_numpy(torch_A.numpy()).to(device)\n",
    "B = Tensor.from_numpy(torch_B.numpy()).to(device)"
   ]
  },
  {
   "cell_type": "markdown",
   "id": "b255918a-cd9f-47a6-afe3-798e27f65945",
   "metadata": {},
   "source": [
    "Build and test executing the CUDA graph for our MatMul kernel:"
   ]
  },
  {
   "cell_type": "code",
   "execution_count": 120,
   "id": "4827f036-dd78-4a55-af95-3799b6574352",
   "metadata": {},
   "outputs": [
    {
     "name": "stdout",
     "output_type": "stream",
     "text": [
      "building cuda graph for tiled\n",
      "loading cuda graph...\n",
      "test run:\n",
      " [[ -52.94233     40.508163   184.46732   ...   73.8153     101.53266\n",
      "    -9.195415 ]\n",
      " [  99.20681     17.712585   -32.31744   ...   67.569016   -29.269722\n",
      "   -30.687311 ]\n",
      " [ 103.16621     55.922573     7.8139853 ... -129.10396    122.072\n",
      "   -94.73273  ]\n",
      " ...\n",
      " [-152.16658     -5.800209    15.404608  ...  -28.760702  -125.07401\n",
      "    39.22515  ]\n",
      " [ -66.788376   -41.872818     5.1465716 ...   78.77888    -48.160667\n",
      "    65.10567  ]\n",
      " [-120.72168    -41.619686   -45.472996  ...  -56.974705   -96.50794\n",
      "    32.49274  ]]\n",
      "\n",
      "reference:\n",
      " [[ -52.94225    40.508183  184.46776  ...   73.81542   101.53253\n",
      "    -9.195331]\n",
      " [  99.20682    17.71258   -32.317547 ...   67.56888   -29.26963\n",
      "   -30.687366]\n",
      " [ 103.166275   55.92268     7.81398  ... -129.10385   122.07202\n",
      "   -94.73273 ]\n",
      " ...\n",
      " [-152.16628    -5.800145   15.404539 ...  -28.760544 -125.07385\n",
      "    39.22515 ]\n",
      " [ -66.78825   -41.87274     5.146493 ...   78.778854  -48.16062\n",
      "    65.105576]\n",
      " [-120.72162   -41.619564  -45.473007 ...  -56.97474   -96.50793\n",
      "    32.49279 ]]\n"
     ]
    }
   ],
   "source": [
    "from max.graph import Graph, TensorType, DeviceRef, ops\n",
    "def build_graph(session, algorithm):\n",
    "    print('building cuda graph for', algorithm)\n",
    "    with Graph(\"matmul_graph\",\n",
    "               input_types=[\n",
    "                   TensorType(dtype=A.dtype, shape=A.shape, device=DeviceRef.from_device(device)),\n",
    "                   TensorType(dtype=B.dtype, shape=B.shape, device=DeviceRef.from_device(device))\n",
    "               ],\n",
    "               custom_extensions=[Path(op_dir)]) as graph:\n",
    "        A_value, B_value = graph.inputs\n",
    "        output = ops.custom(\n",
    "            name=\"my_matmul\",\n",
    "            device=DeviceRef.from_device(device),\n",
    "            values=[A_value, B_value],\n",
    "            out_types=[\n",
    "                TensorType(dtype=A.dtype, shape=[\n",
    "                        A_value.tensor.shape[0], B_value.tensor.shape[1]\n",
    "                    ], device=DeviceRef.from_device(device))\n",
    "            ],\n",
    "            parameters={\"algorithm\": algorithm},\n",
    "        )\n",
    "        graph.output(output[0].tensor)\n",
    "    print('loading cuda graph...')\n",
    "    return session.load(graph) # compile the graph\n",
    "\n",
    "from max.engine import InferenceSession\n",
    "session = InferenceSession(devices=[device])\n",
    "graph =  build_graph(session, \"tiled\")\n",
    "mojo_result = graph.execute(A, B)[0].to_numpy()\n",
    "print(\"test run:\\n\", mojo_result, end=\"\\n\\n\")\n",
    "print(\"reference:\\n\", torch_result)\n",
    "assert numpy.allclose(mojo_result, torch_result, rtol=0, atol=0.005)"
   ]
  },
  {
   "cell_type": "code",
   "execution_count": 117,
   "id": "e00e1bfc-e56e-4de5-873d-295e4784d8fd",
   "metadata": {},
   "outputs": [
    {
     "name": "stdout",
     "output_type": "stream",
     "text": [
      "(4096, 6144) (6144, 2048) (4096, 2048)\n"
     ]
    }
   ],
   "source": [
    "print(A.shape, B.shape, torch_result.shape)\n",
    "for row in range(torch_result.shape[0]):\n",
    "    if numpy.allclose(torch_result[row], mojo_result[row], rtol=0, atol=0.005): continue\n",
    "    print(row)"
   ]
  },
  {
   "cell_type": "markdown",
   "id": "1a96207d-db93-4a13-b238-e254741e6175",
   "metadata": {},
   "source": [
    "Run a complete benchmark for different algorithms:"
   ]
  },
  {
   "cell_type": "code",
   "execution_count": 122,
   "id": "2c3014ac-d048-4ede-9e64-ba997362f2a1",
   "metadata": {},
   "outputs": [
    {
     "name": "stdout",
     "output_type": "stream",
     "text": [
      "building cuda graph for naive\n",
      "loading cuda graph...\n",
      "naive {'torch': 0.013290801399853083, 'mojo': 0.5100630952001666}\n",
      "building cuda graph for coalescing\n",
      "loading cuda graph...\n",
      "coalescing {'torch': 0.013089104199752911, 'mojo': 0.1311064355999406}\n",
      "building cuda graph for tiled\n",
      "loading cuda graph...\n",
      "tiled {'torch': 0.013106160999450368, 'mojo': 0.10900992000097176}\n"
     ]
    }
   ],
   "source": [
    "import time\n",
    "for algo in [\"naive\", \"coalescing\", \"tiled\"]:\n",
    "    graph =  build_graph(session, algo)\n",
    "    record = dict(torch=0, mojo=0)\n",
    "    sampels = 5\n",
    "    for _ in range(sampels):\n",
    "        torch_A = torch.randn(M, K).to('cuda:0')\n",
    "        torch_B = torch.randn(K, N).to('cuda:0')\n",
    "        A = Tensor.from_numpy(torch_A.cpu().numpy()).to(device)\n",
    "        B = Tensor.from_numpy(torch_B.cpu().numpy()).to(device)\n",
    "        # torch\n",
    "        torch.cuda.synchronize()\n",
    "        begin = time.perf_counter()\n",
    "        torch_result = torch_A @ torch_B\n",
    "        torch.cuda.synchronize()\n",
    "        record['torch'] += (time.perf_counter() - begin) / sampels\n",
    "        # mojo\n",
    "        torch.cuda.synchronize()\n",
    "        begin = time.perf_counter()\n",
    "        mojo_result = graph.execute(A, B)\n",
    "        torch.cuda.synchronize()\n",
    "        record['mojo'] += (time.perf_counter() - begin) / sampels\n",
    "        assert numpy.allclose(mojo_result[0].to_numpy(), torch_result.cpu().numpy(), rtol=0, atol=0.005)\n",
    "    print(algo, record)"
   ]
  },
  {
   "cell_type": "markdown",
   "id": "100c23ac-7763-4f1c-a179-154e4f1b8fdf",
   "metadata": {},
   "source": [
    "## Reference\n",
    "[1] https://github.com/modular/modular/blob/main/examples/custom_ops/kernels/matrix_multiplication.mojo\n",
    "\n",
    "[2] https://docs.modular.com/max/tutorials/custom-ops-matmul"
   ]
  }
 ],
 "metadata": {
  "kernelspec": {
   "display_name": "Python 3 (ipykernel)",
   "language": "python",
   "name": "python3"
  },
  "language_info": {
   "codemirror_mode": {
    "name": "ipython",
    "version": 3
   },
   "file_extension": ".py",
   "mimetype": "text/x-python",
   "name": "python",
   "nbconvert_exporter": "python",
   "pygments_lexer": "ipython3",
   "version": "3.13.5"
  }
 },
 "nbformat": 4,
 "nbformat_minor": 5
}
