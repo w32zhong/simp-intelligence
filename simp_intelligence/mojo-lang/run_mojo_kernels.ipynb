{
 "cells": [
  {
   "cell_type": "markdown",
   "id": "8dd68166-a7b7-41fd-bbc1-061ab1b3f3ef",
   "metadata": {},
   "source": [
    "## Load Mojo Kernels"
   ]
  },
  {
   "cell_type": "code",
   "execution_count": 1,
   "id": "ec5e69b8-e14d-4e77-9965-0979d23c8160",
   "metadata": {},
   "outputs": [],
   "source": [
    "import os, torch\n",
    "from pathlib import Path\n",
    "from max.torch import CustomOpLibrary\n",
    "\n",
    "assert torch.cuda.is_available()\n",
    "op_dir = os.path.abspath('operations')"
   ]
  },
  {
   "cell_type": "markdown",
   "id": "99273aef-9df8-4654-9daf-90f9b4c0174a",
   "metadata": {},
   "source": [
    "## Simple `add_one` Operation"
   ]
  },
  {
   "cell_type": "code",
   "execution_count": 24,
   "id": "0cd917d2-a609-463a-806a-604a531b254a",
   "metadata": {},
   "outputs": [],
   "source": [
    "op_lib = CustomOpLibrary(Path(op_dir))\n",
    "add_one = op_lib.my_add_constant[{\"value\": 1}]"
   ]
  },
  {
   "cell_type": "code",
   "execution_count": 25,
   "id": "0f452223-31b4-47b4-9393-d594edfe904c",
   "metadata": {},
   "outputs": [
    {
     "name": "stdout",
     "output_type": "stream",
     "text": [
      "torch_add_one cpu tensor([1001., 1001., 1001.,  ..., 1001., 1001., 1001.]) 0.00474576698616147\n",
      "mojo_add_one cpu tensor([1001., 1001., 1001.,  ..., 1001., 1001., 1001.]) 0.2719612669898197\n",
      "torch_add_one cuda tensor([1001., 1001., 1001.,  ..., 1001., 1001., 1001.], device='cuda:0') 0.008035784005187452\n",
      "mojo_add_one cuda tensor([1001., 1001., 1001.,  ..., 1001., 1001., 1001.], device='cuda:0') 0.27242381998803467\n"
     ]
    }
   ],
   "source": [
    "import time\n",
    "\n",
    "def torch_add_one(inputs):\n",
    "    return inputs + 1\n",
    "\n",
    "def mojo_add_one(inputs):\n",
    "    outputs = torch.zeros_like(inputs)\n",
    "    add_one(outputs, inputs)\n",
    "    return outputs\n",
    "\n",
    "for device in [\"cpu\", \"cuda\"]:\n",
    "    for op in [torch_add_one, mojo_add_one]:\n",
    "        x = torch.zeros(1024, device=device)\n",
    "        x = op(x) # warm-up\n",
    "        start = time.perf_counter()\n",
    "        for _ in range(1000):\n",
    "            x = op(x)\n",
    "        end = time.perf_counter()\n",
    "        print(op.__name__, device, x, end - start)"
   ]
  },
  {
   "cell_type": "markdown",
   "id": "ea389f7b-411d-4e4a-92f9-8b9bd55c7213",
   "metadata": {},
   "source": [
    "## Different MatMul Operations"
   ]
  },
  {
   "cell_type": "code",
   "execution_count": 2,
   "id": "ab358e3e-c603-4d58-bbe3-280dbb41d235",
   "metadata": {},
   "outputs": [],
   "source": [
    "from max.driver import CPU, Accelerator, accelerator_count, Tensor\n",
    "import torch\n",
    "M = 4096\n",
    "K = 6144\n",
    "N = 2048\n",
    "device = CPU() if accelerator_count() == 0 else Accelerator()\n",
    "torch_A = torch.randn(M, K)\n",
    "torch_B = torch.randn(K, N)\n",
    "A = Tensor.from_numpy(torch_A.numpy()).to(device)\n",
    "B = Tensor.from_numpy(torch_B.numpy()).to(device)"
   ]
  },
  {
   "cell_type": "code",
   "execution_count": 4,
   "id": "4827f036-dd78-4a55-af95-3799b6574352",
   "metadata": {},
   "outputs": [
    {
     "name": "stdout",
     "output_type": "stream",
     "text": [
      "algo: naive\n"
     ]
    },
    {
     "data": {
      "text/plain": [
       "array([[0., 0., 0., ..., 0., 0., 0.],\n",
       "       [0., 0., 0., ..., 0., 0., 0.],\n",
       "       [0., 0., 0., ..., 0., 0., 0.],\n",
       "       ...,\n",
       "       [0., 0., 0., ..., 0., 0., 0.],\n",
       "       [0., 0., 0., ..., 0., 0., 0.],\n",
       "       [0., 0., 0., ..., 0., 0., 0.]], shape=(4096, 2048), dtype=float32)"
      ]
     },
     "execution_count": 4,
     "metadata": {},
     "output_type": "execute_result"
    }
   ],
   "source": [
    "from max.graph import Graph, TensorType, DeviceRef, ops\n",
    "def build_graph(session, algorithm):\n",
    "    with Graph(\"matmul_graph\", \n",
    "               input_types=[\n",
    "                   TensorType(dtype=A.dtype, shape=A.shape, device=DeviceRef.from_device(device)),\n",
    "                   TensorType(dtype=B.dtype, shape=B.shape, device=DeviceRef.from_device(device))\n",
    "               ], \n",
    "               custom_extensions=[Path(op_dir)]) as graph:\n",
    "        A_value, B_value = graph.inputs\n",
    "        output = ops.custom(\n",
    "            name=\"my_matmul\",\n",
    "            device=DeviceRef.from_device(device),\n",
    "            values=[A_value, B_value],\n",
    "            out_types=[\n",
    "                TensorType(dtype=A.dtype, shape=[\n",
    "                    A_value.tensor.shape[0], B_value.tensor.shape[1]\n",
    "                ], device=DeviceRef.from_device(device))\n",
    "            ],\n",
    "            parameters={\"algorithm\": algorithm},\n",
    "        )\n",
    "        graph.output(output[0].tensor)\n",
    "    return session.load(graph) # compile the graph\n",
    "\n",
    "from max.engine import InferenceSession\n",
    "session = InferenceSession(devices=[device])\n",
    "graph =  build_graph(session, \"naive\")\n",
    "graph.execute(A, B)[0].to_numpy() # test run"
   ]
  },
  {
   "cell_type": "code",
   "execution_count": 63,
   "id": "b9fa94bd-40f3-4146-802b-4ea7668eef99",
   "metadata": {},
   "outputs": [
    {
     "name": "stdout",
     "output_type": "stream",
     "text": [
      "algo: naive\n",
      "[[-0.8861555   1.8308187  -0.23671497 ...  0.817165   -0.8145387\n",
      "   2.9653795 ]\n",
      " [ 0.20740214  0.07566676 -0.06206705 ...  0.5274629   0.252149\n",
      "   2.0435982 ]\n",
      " [-0.4652769   0.5647216  -0.37028655 ... -0.70551145  0.11549457\n",
      "   1.4300979 ]\n",
      " ...\n",
      " [-0.11095516  0.3688923   0.42027935 ...  0.32099453  0.87393135\n",
      "  -0.634261  ]\n",
      " [-0.9586582  -0.10623673 -0.3575286  ... -0.14929608  0.45016223\n",
      "  -0.716326  ]\n",
      " [ 1.4587893  -0.38653764 -1.7863083  ...  0.1596423   0.8203581\n",
      "   0.57582057]]\n",
      "reference:\n",
      " [[  16.080612   -167.2997      -16.580082   ...   92.61364\n",
      "   -20.823242     43.591152  ]\n",
      " [  -0.99066925  -59.388092     -9.075029   ...   41.45944\n",
      "   -85.95067     -75.04101   ]\n",
      " [  53.804382    -49.96623      -5.9724903  ...  -23.966118\n",
      "   156.89017      31.602358  ]\n",
      " ...\n",
      " [  -2.109706    246.81204       0.7551545  ...  -12.55712\n",
      "   -99.15286       1.9999676 ]\n",
      " [ -58.867798    -50.43374      77.19668    ...  -19.317852\n",
      "    54.39126     -76.479935  ]\n",
      " [ -17.241022      2.6617918   -14.617472   ...  -41.92168\n",
      "   -65.47855     168.43597   ]]\n"
     ]
    }
   ],
   "source": [
    "torch_A = torch.randn(M, K)\n",
    "torch_B = torch.randn(K, N)\n",
    "A = Tensor.from_numpy(torch_A.numpy()).to(device)\n",
    "B = Tensor.from_numpy(torch_B.numpy()).to(device)\n",
    "print(graph.execute(A, B)[0].to_numpy())\n",
    "print(\"reference:\\n\", (torch_A @ torch_B).numpy())"
   ]
  },
  {
   "cell_type": "markdown",
   "id": "100c23ac-7763-4f1c-a179-154e4f1b8fdf",
   "metadata": {},
   "source": [
    "## Reference\n",
    "[1] https://github.com/modular/modular/blob/main/examples/custom_ops/kernels/matrix_multiplication.mojo"
   ]
  }
 ],
 "metadata": {
  "kernelspec": {
   "display_name": "Python 3 (ipykernel)",
   "language": "python",
   "name": "python3"
  },
  "language_info": {
   "codemirror_mode": {
    "name": "ipython",
    "version": 3
   },
   "file_extension": ".py",
   "mimetype": "text/x-python",
   "name": "python",
   "nbconvert_exporter": "python",
   "pygments_lexer": "ipython3",
   "version": "3.13.5"
  }
 },
 "nbformat": 4,
 "nbformat_minor": 5
}
