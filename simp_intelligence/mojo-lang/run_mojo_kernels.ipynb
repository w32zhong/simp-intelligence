{
 "cells": [
  {
   "cell_type": "markdown",
   "id": "8dd68166-a7b7-41fd-bbc1-061ab1b3f3ef",
   "metadata": {},
   "source": [
    "## Load Mojo Kernels"
   ]
  },
  {
   "cell_type": "code",
   "execution_count": 7,
   "id": "ec5e69b8-e14d-4e77-9965-0979d23c8160",
   "metadata": {},
   "outputs": [],
   "source": [
    "import os, numpy, torch\n",
    "from pathlib import Path\n",
    "from max.torch import CustomOpLibrary\n",
    "\n",
    "assert torch.cuda.is_available()\n",
    "op_dir = os.path.abspath('operations')"
   ]
  },
  {
   "cell_type": "markdown",
   "id": "99273aef-9df8-4654-9daf-90f9b4c0174a",
   "metadata": {},
   "source": [
    "## Simple `add_one` Operation"
   ]
  },
  {
   "cell_type": "code",
   "execution_count": 2,
   "id": "0cd917d2-a609-463a-806a-604a531b254a",
   "metadata": {},
   "outputs": [],
   "source": [
    "op_lib = CustomOpLibrary(Path(op_dir))\n",
    "add_one = op_lib.my_add_constant[{\"value\": 1}]"
   ]
  },
  {
   "cell_type": "code",
   "execution_count": 3,
   "id": "0f452223-31b4-47b4-9393-d594edfe904c",
   "metadata": {},
   "outputs": [
    {
     "name": "stdout",
     "output_type": "stream",
     "text": [
      "torch_add_one cpu tensor([1001., 1001., 1001.,  ..., 1001., 1001., 1001.]) 0.003813645918853581\n",
      "mojo_add_one cpu tensor([1001., 1001., 1001.,  ..., 1001., 1001., 1001.]) 0.15939615399111062\n",
      "torch_add_one cuda tensor([1001., 1001., 1001.,  ..., 1001., 1001., 1001.], device='cuda:0') 0.008109500049613416\n",
      "mojo_add_one cuda tensor([1001., 1001., 1001.,  ..., 1001., 1001., 1001.], device='cuda:0') 0.23655258293729275\n"
     ]
    }
   ],
   "source": [
    "import time\n",
    "\n",
    "def torch_add_one(inputs):\n",
    "    return inputs + 1\n",
    "\n",
    "def mojo_add_one(inputs):\n",
    "    outputs = torch.zeros_like(inputs)\n",
    "    add_one(outputs, inputs)\n",
    "    return outputs\n",
    "\n",
    "for device in [\"cpu\", \"cuda\"]:\n",
    "    for op in [torch_add_one, mojo_add_one]:\n",
    "        x = torch.zeros(1024, device=device)\n",
    "        x = op(x) # warm-up\n",
    "        start = time.perf_counter()\n",
    "        for _ in range(1000):\n",
    "            x = op(x)\n",
    "        end = time.perf_counter()\n",
    "        print(op.__name__, device, x, end - start)"
   ]
  },
  {
   "cell_type": "markdown",
   "id": "ea389f7b-411d-4e4a-92f9-8b9bd55c7213",
   "metadata": {},
   "source": [
    "## Different MatMul Operations"
   ]
  },
  {
   "cell_type": "code",
   "execution_count": 8,
   "id": "ab358e3e-c603-4d58-bbe3-280dbb41d235",
   "metadata": {},
   "outputs": [],
   "source": [
    "from max.driver import CPU, Accelerator, accelerator_count, Tensor\n",
    "import torch\n",
    "M = 4096\n",
    "K = 6144\n",
    "N = 2048\n",
    "device = CPU() if accelerator_count() == 0 else Accelerator()\n",
    "torch_A = torch.randn(M, K)\n",
    "torch_B = torch.randn(K, N)\n",
    "torch_result = (torch_A @ torch_B).numpy()\n",
    "A = Tensor.from_numpy(torch_A.numpy()).to(device)\n",
    "B = Tensor.from_numpy(torch_B.numpy()).to(device)"
   ]
  },
  {
   "cell_type": "markdown",
   "id": "b255918a-cd9f-47a6-afe3-798e27f65945",
   "metadata": {},
   "source": [
    "Build and test executing the CUDA graph for our MatMul kernel:"
   ]
  },
  {
   "cell_type": "code",
   "execution_count": 9,
   "id": "4827f036-dd78-4a55-af95-3799b6574352",
   "metadata": {},
   "outputs": [
    {
     "name": "stdout",
     "output_type": "stream",
     "text": [
      "building cuda graph...\n",
      "algo: naive\n"
     ]
    }
   ],
   "source": [
    "from max.graph import Graph, TensorType, DeviceRef, ops\n",
    "def build_graph(session, algorithm):\n",
    "    with Graph(\"matmul_graph\",\n",
    "               input_types=[\n",
    "                   TensorType(dtype=A.dtype, shape=A.shape, device=DeviceRef.from_device(device)),\n",
    "                   TensorType(dtype=B.dtype, shape=B.shape, device=DeviceRef.from_device(device))\n",
    "               ],\n",
    "               custom_extensions=[Path(op_dir)]) as graph:\n",
    "        A_value, B_value = graph.inputs\n",
    "        output = ops.custom(\n",
    "            name=\"my_matmul\",\n",
    "            device=DeviceRef.from_device(device),\n",
    "            values=[A_value, B_value],\n",
    "            out_types=[\n",
    "                TensorType(dtype=A.dtype, shape=[\n",
    "                        A_value.tensor.shape[0], B_value.tensor.shape[1]\n",
    "                    ], device=DeviceRef.from_device(device))\n",
    "            ],\n",
    "            parameters={\"algorithm\": algorithm},\n",
    "        )\n",
    "        graph.output(output[0].tensor)\n",
    "    return session.load(graph) # compile the graph\n",
    "\n",
    "from max.engine import InferenceSession\n",
    "session = InferenceSession(devices=[device])\n",
    "print('building cuda graph...')\n",
    "graph =  build_graph(session, \"naive\")\n",
    "mojo_result = graph.execute(A, B)[0].to_numpy() # test run"
   ]
  },
  {
   "cell_type": "markdown",
   "id": "e1a20054-18d3-4d04-80b1-28806f2c9017",
   "metadata": {},
   "source": [
    "Now verify the kernel calculation:"
   ]
  },
  {
   "cell_type": "code",
   "execution_count": 10,
   "id": "b9fa94bd-40f3-4146-802b-4ea7668eef99",
   "metadata": {},
   "outputs": [
    {
     "name": "stdout",
     "output_type": "stream",
     "text": [
      "[[ -68.15777    -88.05523   -217.07161   ...  -44.82082     -6.8497744\n",
      "   184.864    ]\n",
      " [  61.421253    -0.8291675 -120.87447   ...   86.0836     146.33058\n",
      "     9.873138 ]\n",
      " [  79.264366    69.59208    -53.364     ...  204.6813       6.614575\n",
      "    68.28843  ]\n",
      " ...\n",
      " [ 106.035545   -73.1687     -16.831264  ...  -40.18564     56.917828\n",
      "    59.74314  ]\n",
      " [-158.22717     13.744788    41.3687    ... -117.1607    -109.138405\n",
      "   120.45917  ]\n",
      " [ -36.116673   123.74782    -28.38967   ...  -56.09248    -54.63964\n",
      "     1.0272372]]\n",
      "\n",
      "reference:\n",
      " [[ -68.15774    -88.05525   -217.07114   ...  -44.820915    -6.849769\n",
      "   184.86397  ]\n",
      " [  61.421227    -0.8291502 -120.8744    ...   86.08326    146.3305\n",
      "     9.873069 ]\n",
      " [  79.26427     69.59227    -53.364048  ...  204.6814       6.614544\n",
      "    68.28847  ]\n",
      " ...\n",
      " [ 106.03558    -73.16875    -16.831312  ...  -40.185654    56.91782\n",
      "    59.74322  ]\n",
      " [-158.22719     13.744926    41.368725  ... -117.1608    -109.13831\n",
      "   120.459175 ]\n",
      " [ -36.116646   123.74789    -28.389738  ...  -56.092506   -54.639442\n",
      "     1.0271921]]\n"
     ]
    }
   ],
   "source": [
    "print(mojo_result, end=\"\\n\\n\")\n",
    "print(\"reference:\\n\", torch_result)\n",
    "assert numpy.allclose(mojo_result, torch_result, rtol=0, atol=0.002)"
   ]
  },
  {
   "cell_type": "markdown",
   "id": "1a96207d-db93-4a13-b238-e254741e6175",
   "metadata": {},
   "source": [
    "Test the speed?"
   ]
  },
  {
   "cell_type": "code",
   "execution_count": 21,
   "id": "2c3014ac-d048-4ede-9e64-ba997362f2a1",
   "metadata": {},
   "outputs": [
    {
     "name": "stdout",
     "output_type": "stream",
     "text": [
      "algo: naive\n",
      "algo: naive\n",
      "algo: naive\n",
      "algo: naive\n",
      "algo: naive\n"
     ]
    },
    {
     "data": {
      "text/plain": [
       "{'torch': 0.09531373414210975, 'mojo': 2.617269338108599}"
      ]
     },
     "execution_count": 21,
     "metadata": {},
     "output_type": "execute_result"
    }
   ],
   "source": [
    "record = dict(torch=0, mojo=0)\n",
    "for _ in range(5):\n",
    "    torch_A = torch.randn(M, K).to('cuda:0')\n",
    "    torch_B = torch.randn(K, N).to('cuda:0')\n",
    "    A = Tensor.from_numpy(torch_A.cpu().numpy()).to(device)\n",
    "    B = Tensor.from_numpy(torch_B.cpu().numpy()).to(device)\n",
    "    # torch\n",
    "    begin = time.perf_counter()\n",
    "    torch_result = (torch_A @ torch_B).cpu().numpy()\n",
    "    record['torch'] += time.perf_counter() - begin\n",
    "    # mojo\n",
    "    begin = time.perf_counter()\n",
    "    mojo_result = graph.execute(A, B)[0].to_numpy()\n",
    "    record['mojo'] += time.perf_counter() - begin\n",
    "    assert numpy.allclose(mojo_result, torch_result, rtol=0, atol=0.002)\n",
    "record"
   ]
  },
  {
   "cell_type": "markdown",
   "id": "100c23ac-7763-4f1c-a179-154e4f1b8fdf",
   "metadata": {},
   "source": [
    "## Reference\n",
    "[1] https://github.com/modular/modular/blob/main/examples/custom_ops/kernels/matrix_multiplication.mojo"
   ]
  }
 ],
 "metadata": {
  "kernelspec": {
   "display_name": "Python 3 (ipykernel)",
   "language": "python",
   "name": "python3"
  },
  "language_info": {
   "codemirror_mode": {
    "name": "ipython",
    "version": 3
   },
   "file_extension": ".py",
   "mimetype": "text/x-python",
   "name": "python",
   "nbconvert_exporter": "python",
   "pygments_lexer": "ipython3",
   "version": "3.13.5"
  }
 },
 "nbformat": 4,
 "nbformat_minor": 5
}
