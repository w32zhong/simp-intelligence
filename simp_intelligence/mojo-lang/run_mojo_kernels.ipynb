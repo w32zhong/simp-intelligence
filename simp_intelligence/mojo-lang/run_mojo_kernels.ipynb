{
 "cells": [
  {
   "cell_type": "markdown",
   "id": "8dd68166-a7b7-41fd-bbc1-061ab1b3f3ef",
   "metadata": {},
   "source": [
    "## Load Mojo Kernels"
   ]
  },
  {
   "cell_type": "code",
   "execution_count": 7,
   "id": "ec5e69b8-e14d-4e77-9965-0979d23c8160",
   "metadata": {},
   "outputs": [],
   "source": [
    "import os, numpy, torch\n",
    "from pathlib import Path\n",
    "from max.torch import CustomOpLibrary\n",
    "\n",
    "assert torch.cuda.is_available()\n",
    "op_dir = os.path.abspath('operations')"
   ]
  },
  {
   "cell_type": "markdown",
   "id": "99273aef-9df8-4654-9daf-90f9b4c0174a",
   "metadata": {},
   "source": [
    "## Simple `add_one` Operation"
   ]
  },
  {
   "cell_type": "code",
   "execution_count": 2,
   "id": "0cd917d2-a609-463a-806a-604a531b254a",
   "metadata": {},
   "outputs": [],
   "source": [
    "op_lib = CustomOpLibrary(Path(op_dir))\n",
    "add_one = op_lib.my_add_constant[{\"value\": 1}]"
   ]
  },
  {
   "cell_type": "code",
   "execution_count": 3,
   "id": "0f452223-31b4-47b4-9393-d594edfe904c",
   "metadata": {},
   "outputs": [
    {
     "name": "stdout",
     "output_type": "stream",
     "text": [
      "torch_add_one cpu tensor([1001., 1001., 1001.,  ..., 1001., 1001., 1001.]) 0.003813645918853581\n",
      "mojo_add_one cpu tensor([1001., 1001., 1001.,  ..., 1001., 1001., 1001.]) 0.15939615399111062\n",
      "torch_add_one cuda tensor([1001., 1001., 1001.,  ..., 1001., 1001., 1001.], device='cuda:0') 0.008109500049613416\n",
      "mojo_add_one cuda tensor([1001., 1001., 1001.,  ..., 1001., 1001., 1001.], device='cuda:0') 0.23655258293729275\n"
     ]
    }
   ],
   "source": [
    "import time\n",
    "\n",
    "def torch_add_one(inputs):\n",
    "    return inputs + 1\n",
    "\n",
    "def mojo_add_one(inputs):\n",
    "    outputs = torch.zeros_like(inputs)\n",
    "    add_one(outputs, inputs)\n",
    "    return outputs\n",
    "\n",
    "for device in [\"cpu\", \"cuda\"]:\n",
    "    for op in [torch_add_one, mojo_add_one]:\n",
    "        x = torch.zeros(1024, device=device)\n",
    "        x = op(x) # warm-up\n",
    "        start = time.perf_counter()\n",
    "        for _ in range(1000):\n",
    "            x = op(x)\n",
    "        end = time.perf_counter()\n",
    "        print(op.__name__, device, x, end - start)"
   ]
  },
  {
   "cell_type": "markdown",
   "id": "ea389f7b-411d-4e4a-92f9-8b9bd55c7213",
   "metadata": {},
   "source": [
    "## Different MatMul Algorithms"
   ]
  },
  {
   "cell_type": "code",
   "execution_count": 12,
   "id": "ab358e3e-c603-4d58-bbe3-280dbb41d235",
   "metadata": {},
   "outputs": [],
   "source": [
    "from max.driver import CPU, Accelerator, accelerator_count, Tensor\n",
    "import torch\n",
    "M = 4096\n",
    "K = 6144\n",
    "N = 2048\n",
    "device = CPU() if accelerator_count() == 0 else Accelerator()\n",
    "torch_A = torch.randn(M, K)\n",
    "torch_B = torch.randn(K, N)\n",
    "torch_result = (torch_A @ torch_B).numpy()\n",
    "A = Tensor.from_numpy(torch_A.numpy()).to(device)\n",
    "B = Tensor.from_numpy(torch_B.numpy()).to(device)"
   ]
  },
  {
   "cell_type": "markdown",
   "id": "b255918a-cd9f-47a6-afe3-798e27f65945",
   "metadata": {},
   "source": [
    "Build and test executing the CUDA graph for our MatMul kernel:"
   ]
  },
  {
   "cell_type": "code",
   "execution_count": 15,
   "id": "4827f036-dd78-4a55-af95-3799b6574352",
   "metadata": {},
   "outputs": [
    {
     "name": "stdout",
     "output_type": "stream",
     "text": [
      "building cuda graph for tiled_register\n",
      "loading cuda graph...\n",
      "test run:\n",
      " [[ 413.29004     56.92129     83.400345  ...  -12.304021   -52.580948\n",
      "   -50.107594 ]\n",
      " [  50.026173   332.2174      67.8422    ...  -13.157701    71.953575\n",
      "   -32.62087  ]\n",
      " [ -36.76945    -91.15466    299.37857   ...  -10.059785   -74.83853\n",
      "     6.8866305]\n",
      " ...\n",
      " [  -9.585925   -24.193306     1.5354619 ...  400.3204     -90.23229\n",
      "     7.2631245]\n",
      " [-117.70533    -40.119106   -37.276913  ...   15.177331   357.47803\n",
      "    69.10169  ]\n",
      " [  32.88124   -116.07284    -79.88674   ...  -32.81472    -15.833847\n",
      "   402.2895   ]]\n",
      "\n",
      "reference:\n",
      " [[ 6.1341324e+00 -7.7510292e+01  1.7075717e+02 ...  2.9965069e+01\n",
      "  -7.1365023e+00 -2.2929005e+01]\n",
      " [ 2.8462984e+01  4.3787811e+01  1.4333394e+02 ... -5.7538811e+01\n",
      "   1.7837200e+01  4.4863251e+01]\n",
      " [ 1.0912779e+02  2.0891026e+02 -5.2901581e+01 ...  3.0110598e-02\n",
      "   4.2478676e+01 -6.2596178e+00]\n",
      " ...\n",
      " [-5.0698322e+01 -1.5537634e+02 -5.5040268e+01 ...  9.0997597e+01\n",
      "  -2.7807766e+01  2.2023298e+01]\n",
      " [ 6.6191177e+01 -5.9669151e+01  2.6038311e+01 ...  8.5790398e+01\n",
      "   1.4652068e+02  2.5490288e+01]\n",
      " [-1.9077980e+02  1.0686495e+02  1.2015579e+02 ... -1.6725416e+01\n",
      "  -7.8285561e+01  8.5720253e+01]]\n"
     ]
    },
    {
     "ename": "AssertionError",
     "evalue": "",
     "output_type": "error",
     "traceback": [
      "\u001b[31m---------------------------------------------------------------------------\u001b[39m",
      "\u001b[31mAssertionError\u001b[39m                            Traceback (most recent call last)",
      "\u001b[36mCell\u001b[39m\u001b[36m \u001b[39m\u001b[32mIn[15]\u001b[39m\u001b[32m, line 32\u001b[39m\n\u001b[32m     30\u001b[39m \u001b[38;5;28mprint\u001b[39m(\u001b[33m\"\u001b[39m\u001b[33mtest run:\u001b[39m\u001b[38;5;130;01m\\n\u001b[39;00m\u001b[33m\"\u001b[39m, mojo_result, end=\u001b[33m\"\u001b[39m\u001b[38;5;130;01m\\n\u001b[39;00m\u001b[38;5;130;01m\\n\u001b[39;00m\u001b[33m\"\u001b[39m)\n\u001b[32m     31\u001b[39m \u001b[38;5;28mprint\u001b[39m(\u001b[33m\"\u001b[39m\u001b[33mreference:\u001b[39m\u001b[38;5;130;01m\\n\u001b[39;00m\u001b[33m\"\u001b[39m, torch_result)\n\u001b[32m---> \u001b[39m\u001b[32m32\u001b[39m \u001b[38;5;28;01massert\u001b[39;00m numpy.allclose(mojo_result, torch_result, rtol=\u001b[32m0\u001b[39m, atol=\u001b[32m0.005\u001b[39m)\n",
      "\u001b[31mAssertionError\u001b[39m: "
     ]
    }
   ],
   "source": [
    "from max.graph import Graph, TensorType, DeviceRef, ops\n",
    "def build_graph(session, algorithm):\n",
    "    print('building cuda graph for', algorithm)\n",
    "    with Graph(\"matmul_graph\",\n",
    "               input_types=[\n",
    "                   TensorType(dtype=A.dtype, shape=A.shape, device=DeviceRef.from_device(device)),\n",
    "                   TensorType(dtype=B.dtype, shape=B.shape, device=DeviceRef.from_device(device))\n",
    "               ],\n",
    "               custom_extensions=[Path(op_dir)]) as graph:\n",
    "        A_value, B_value = graph.inputs\n",
    "        output = ops.custom(\n",
    "            name=\"my_matmul\",\n",
    "            device=DeviceRef.from_device(device),\n",
    "            values=[A_value, B_value],\n",
    "            out_types=[\n",
    "                TensorType(dtype=A.dtype, shape=[\n",
    "                        A_value.tensor.shape[0], B_value.tensor.shape[1]\n",
    "                    ], device=DeviceRef.from_device(device))\n",
    "            ],\n",
    "            parameters={\"algorithm\": algorithm},\n",
    "        )\n",
    "        graph.output(output[0].tensor)\n",
    "    print('loading cuda graph...')\n",
    "    return session.load(graph) # compile the graph\n",
    "\n",
    "from max.engine import InferenceSession\n",
    "session = InferenceSession(devices=[device])\n",
    "graph =  build_graph(session, \"tiled_register\")\n",
    "mojo_result = graph.execute(A, B)[0].to_numpy()\n",
    "print(\"test run:\\n\", mojo_result, end=\"\\n\\n\")\n",
    "print(\"reference:\\n\", torch_result)\n",
    "assert numpy.allclose(mojo_result, torch_result, rtol=0, atol=0.005)"
   ]
  },
  {
   "cell_type": "code",
   "execution_count": null,
   "id": "e00e1bfc-e56e-4de5-873d-295e4784d8fd",
   "metadata": {},
   "outputs": [],
   "source": [
    "for row in range(torch_result.shape[0]):\n",
    "    if numpy.allclose(torch_result[row], mojo_result[row], rtol=0, atol=0.005): continue\n",
    "    print('mismatch row:', row)"
   ]
  },
  {
   "cell_type": "markdown",
   "id": "e8e62fbd-c68e-409e-a161-de603809c591",
   "metadata": {},
   "source": [
    "The tiled matmul process looks like this:\n",
    "![](tile-mma.png)\n",
    "\n",
    "And the *tiled_register* version is further compute results in \"subtiles\":\n",
    "![](subtile.png)"
   ]
  },
  {
   "cell_type": "markdown",
   "id": "1a96207d-db93-4a13-b238-e254741e6175",
   "metadata": {},
   "source": [
    "Run a complete benchmark for different algorithms:"
   ]
  },
  {
   "cell_type": "code",
   "execution_count": 140,
   "id": "2c3014ac-d048-4ede-9e64-ba997362f2a1",
   "metadata": {},
   "outputs": [
    {
     "name": "stdout",
     "output_type": "stream",
     "text": [
      "building cuda graph for naive\n",
      "loading cuda graph...\n",
      "naive {'torch': 0.013435979800124186, 'mojo': 0.5127615508004966}\n",
      "building cuda graph for coalescing\n",
      "loading cuda graph...\n",
      "coalescing {'torch': 0.013407805200404254, 'mojo': 0.13278580000041984}\n",
      "building cuda graph for tiled\n",
      "loading cuda graph...\n",
      "tiled {'torch': 0.01342437559942482, 'mojo': 0.10924591420043725}\n"
     ]
    }
   ],
   "source": [
    "import time\n",
    "for algo in [\"naive\", \"coalescing\", \"tiled\"]:\n",
    "    graph =  build_graph(session, algo)\n",
    "    record = dict(torch=0, mojo=0)\n",
    "    sampels = 5\n",
    "    for _ in range(sampels):\n",
    "        torch_A = torch.randn(M, K).to('cuda:0')\n",
    "        torch_B = torch.randn(K, N).to('cuda:0')\n",
    "        A = Tensor.from_numpy(torch_A.cpu().numpy()).to(device)\n",
    "        B = Tensor.from_numpy(torch_B.cpu().numpy()).to(device)\n",
    "        # torch\n",
    "        torch.cuda.synchronize()\n",
    "        begin = time.perf_counter()\n",
    "        torch_result = torch_A @ torch_B\n",
    "        torch.cuda.synchronize()\n",
    "        record['torch'] += (time.perf_counter() - begin) / sampels\n",
    "        # mojo\n",
    "        torch.cuda.synchronize()\n",
    "        begin = time.perf_counter()\n",
    "        mojo_result = graph.execute(A, B)\n",
    "        torch.cuda.synchronize()\n",
    "        record['mojo'] += (time.perf_counter() - begin) / sampels\n",
    "        assert numpy.allclose(mojo_result[0].to_numpy(), torch_result.cpu().numpy(), rtol=0, atol=0.005)\n",
    "    print(algo, record)"
   ]
  },
  {
   "cell_type": "markdown",
   "id": "100c23ac-7763-4f1c-a179-154e4f1b8fdf",
   "metadata": {},
   "source": [
    "## Reference\n",
    "[1] https://github.com/modular/modular/blob/main/examples/custom_ops/kernels/matrix_multiplication.mojo\n",
    "\n",
    "[2] https://docs.modular.com/max/tutorials/custom-ops-matmul"
   ]
  }
 ],
 "metadata": {
  "kernelspec": {
   "display_name": "Python 3 (ipykernel)",
   "language": "python",
   "name": "python3"
  },
  "language_info": {
   "codemirror_mode": {
    "name": "ipython",
    "version": 3
   },
   "file_extension": ".py",
   "mimetype": "text/x-python",
   "name": "python",
   "nbconvert_exporter": "python",
   "pygments_lexer": "ipython3",
   "version": "3.13.5"
  }
 },
 "nbformat": 4,
 "nbformat_minor": 5
}
