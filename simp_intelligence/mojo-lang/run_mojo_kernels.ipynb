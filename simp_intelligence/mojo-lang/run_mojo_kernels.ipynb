{
 "cells": [
  {
   "cell_type": "markdown",
   "id": "8dd68166-a7b7-41fd-bbc1-061ab1b3f3ef",
   "metadata": {},
   "source": [
    "## Load Mojo Kernels"
   ]
  },
  {
   "cell_type": "code",
   "execution_count": 123,
   "id": "ec5e69b8-e14d-4e77-9965-0979d23c8160",
   "metadata": {},
   "outputs": [],
   "source": [
    "import os, numpy, torch\n",
    "from pathlib import Path\n",
    "from max.torch import CustomOpLibrary\n",
    "\n",
    "assert torch.cuda.is_available()\n",
    "op_dir = os.path.abspath('operations')"
   ]
  },
  {
   "cell_type": "markdown",
   "id": "99273aef-9df8-4654-9daf-90f9b4c0174a",
   "metadata": {},
   "source": [
    "## Simple `add_one` Operation"
   ]
  },
  {
   "cell_type": "code",
   "execution_count": 2,
   "id": "0cd917d2-a609-463a-806a-604a531b254a",
   "metadata": {},
   "outputs": [],
   "source": [
    "op_lib = CustomOpLibrary(Path(op_dir))\n",
    "add_one = op_lib.my_add_constant[{\"value\": 1}]"
   ]
  },
  {
   "cell_type": "code",
   "execution_count": 3,
   "id": "0f452223-31b4-47b4-9393-d594edfe904c",
   "metadata": {},
   "outputs": [
    {
     "name": "stdout",
     "output_type": "stream",
     "text": [
      "torch_add_one cpu tensor([1001., 1001., 1001.,  ..., 1001., 1001., 1001.]) 0.003813645918853581\n",
      "mojo_add_one cpu tensor([1001., 1001., 1001.,  ..., 1001., 1001., 1001.]) 0.15939615399111062\n",
      "torch_add_one cuda tensor([1001., 1001., 1001.,  ..., 1001., 1001., 1001.], device='cuda:0') 0.008109500049613416\n",
      "mojo_add_one cuda tensor([1001., 1001., 1001.,  ..., 1001., 1001., 1001.], device='cuda:0') 0.23655258293729275\n"
     ]
    }
   ],
   "source": [
    "import time\n",
    "\n",
    "def torch_add_one(inputs):\n",
    "    return inputs + 1\n",
    "\n",
    "def mojo_add_one(inputs):\n",
    "    outputs = torch.zeros_like(inputs)\n",
    "    add_one(outputs, inputs)\n",
    "    return outputs\n",
    "\n",
    "for device in [\"cpu\", \"cuda\"]:\n",
    "    for op in [torch_add_one, mojo_add_one]:\n",
    "        x = torch.zeros(1024, device=device)\n",
    "        x = op(x) # warm-up\n",
    "        start = time.perf_counter()\n",
    "        for _ in range(1000):\n",
    "            x = op(x)\n",
    "        end = time.perf_counter()\n",
    "        print(op.__name__, device, x, end - start)"
   ]
  },
  {
   "cell_type": "markdown",
   "id": "ea389f7b-411d-4e4a-92f9-8b9bd55c7213",
   "metadata": {},
   "source": [
    "## Different MatMul Operations"
   ]
  },
  {
   "cell_type": "code",
   "execution_count": 137,
   "id": "ab358e3e-c603-4d58-bbe3-280dbb41d235",
   "metadata": {},
   "outputs": [],
   "source": [
    "from max.driver import CPU, Accelerator, accelerator_count, Tensor\n",
    "import torch\n",
    "M = 4096\n",
    "K = 6144\n",
    "N = 2048\n",
    "device = CPU() if accelerator_count() == 0 else Accelerator()\n",
    "torch_A = torch.randn(M, K)\n",
    "torch_B = torch.randn(K, N)\n",
    "torch_result = (torch_A @ torch_B).numpy()\n",
    "A = Tensor.from_numpy(torch_A.numpy()).to(device)\n",
    "B = Tensor.from_numpy(torch_B.numpy()).to(device)"
   ]
  },
  {
   "cell_type": "markdown",
   "id": "b255918a-cd9f-47a6-afe3-798e27f65945",
   "metadata": {},
   "source": [
    "Build and test executing the CUDA graph for our MatMul kernel:"
   ]
  },
  {
   "cell_type": "code",
   "execution_count": 138,
   "id": "4827f036-dd78-4a55-af95-3799b6574352",
   "metadata": {},
   "outputs": [
    {
     "name": "stdout",
     "output_type": "stream",
     "text": [
      "building cuda graph for tiled\n",
      "loading cuda graph...\n",
      "test run:\n",
      " [[  19.688547    29.889967   -74.02325   ...   27.576792    66.2558\n",
      "   -10.21592  ]\n",
      " [  72.256996    45.374405   -61.212254  ...  -92.33341     52.540565\n",
      "   107.3042   ]\n",
      " [ -35.553757    93.13672    -53.93777   ...  -41.45468    -35.69422\n",
      "  -126.47184  ]\n",
      " ...\n",
      " [ -54.23715   -135.49033    -34.873363  ...   62.06021   -144.281\n",
      "   -43.733654 ]\n",
      " [  46.560833    46.13195      6.0038404 ...   16.611938   -38.916622\n",
      "   -84.756805 ]\n",
      " [  23.724674  -153.43835     -7.725372  ...   28.762293    -1.0535382\n",
      "    40.57755  ]]\n",
      "\n",
      "reference:\n",
      " [[  19.688555    29.889935   -74.023254  ...   27.57682     66.2558\n",
      "   -10.215903 ]\n",
      " [  72.25684     45.374245   -61.212036  ...  -92.333275    52.540565\n",
      "   107.30409  ]\n",
      " [ -35.553734    93.13657    -53.937904  ...  -41.454742   -35.69433\n",
      "  -126.4719   ]\n",
      " ...\n",
      " [ -54.237022  -135.49055    -34.87345   ...   62.060116  -144.28111\n",
      "   -43.733643 ]\n",
      " [  46.56071     46.132217     6.0037994 ...   16.611843   -38.91664\n",
      "   -84.75686  ]\n",
      " [  23.724586  -153.4381      -7.725421  ...   28.762287    -1.053566\n",
      "    40.57755  ]]\n"
     ]
    }
   ],
   "source": [
    "from max.graph import Graph, TensorType, DeviceRef, ops\n",
    "def build_graph(session, algorithm):\n",
    "    print('building cuda graph for', algorithm)\n",
    "    with Graph(\"matmul_graph\",\n",
    "               input_types=[\n",
    "                   TensorType(dtype=A.dtype, shape=A.shape, device=DeviceRef.from_device(device)),\n",
    "                   TensorType(dtype=B.dtype, shape=B.shape, device=DeviceRef.from_device(device))\n",
    "               ],\n",
    "               custom_extensions=[Path(op_dir)]) as graph:\n",
    "        A_value, B_value = graph.inputs\n",
    "        output = ops.custom(\n",
    "            name=\"my_matmul\",\n",
    "            device=DeviceRef.from_device(device),\n",
    "            values=[A_value, B_value],\n",
    "            out_types=[\n",
    "                TensorType(dtype=A.dtype, shape=[\n",
    "                        A_value.tensor.shape[0], B_value.tensor.shape[1]\n",
    "                    ], device=DeviceRef.from_device(device))\n",
    "            ],\n",
    "            parameters={\"algorithm\": algorithm},\n",
    "        )\n",
    "        graph.output(output[0].tensor)\n",
    "    print('loading cuda graph...')\n",
    "    return session.load(graph) # compile the graph\n",
    "\n",
    "from max.engine import InferenceSession\n",
    "session = InferenceSession(devices=[device])\n",
    "graph =  build_graph(session, \"tiled\")\n",
    "mojo_result = graph.execute(A, B)[0].to_numpy()\n",
    "print(\"test run:\\n\", mojo_result, end=\"\\n\\n\")\n",
    "print(\"reference:\\n\", torch_result)\n",
    "assert numpy.allclose(mojo_result, torch_result, rtol=0, atol=0.005)"
   ]
  },
  {
   "cell_type": "code",
   "execution_count": 139,
   "id": "e00e1bfc-e56e-4de5-873d-295e4784d8fd",
   "metadata": {},
   "outputs": [],
   "source": [
    "for row in range(torch_result.shape[0]):\n",
    "    if numpy.allclose(torch_result[row], mojo_result[row], rtol=0, atol=0.005): continue\n",
    "    print('mismatch row:', row)"
   ]
  },
  {
   "cell_type": "markdown",
   "id": "1a96207d-db93-4a13-b238-e254741e6175",
   "metadata": {},
   "source": [
    "Run a complete benchmark for different algorithms:"
   ]
  },
  {
   "cell_type": "code",
   "execution_count": 140,
   "id": "2c3014ac-d048-4ede-9e64-ba997362f2a1",
   "metadata": {},
   "outputs": [
    {
     "name": "stdout",
     "output_type": "stream",
     "text": [
      "building cuda graph for naive\n",
      "loading cuda graph...\n",
      "naive {'torch': 0.013435979800124186, 'mojo': 0.5127615508004966}\n",
      "building cuda graph for coalescing\n",
      "loading cuda graph...\n",
      "coalescing {'torch': 0.013407805200404254, 'mojo': 0.13278580000041984}\n",
      "building cuda graph for tiled\n",
      "loading cuda graph...\n",
      "tiled {'torch': 0.01342437559942482, 'mojo': 0.10924591420043725}\n"
     ]
    }
   ],
   "source": [
    "import time\n",
    "for algo in [\"naive\", \"coalescing\", \"tiled\"]:\n",
    "    graph =  build_graph(session, algo)\n",
    "    record = dict(torch=0, mojo=0)\n",
    "    sampels = 5\n",
    "    for _ in range(sampels):\n",
    "        torch_A = torch.randn(M, K).to('cuda:0')\n",
    "        torch_B = torch.randn(K, N).to('cuda:0')\n",
    "        A = Tensor.from_numpy(torch_A.cpu().numpy()).to(device)\n",
    "        B = Tensor.from_numpy(torch_B.cpu().numpy()).to(device)\n",
    "        # torch\n",
    "        torch.cuda.synchronize()\n",
    "        begin = time.perf_counter()\n",
    "        torch_result = torch_A @ torch_B\n",
    "        torch.cuda.synchronize()\n",
    "        record['torch'] += (time.perf_counter() - begin) / sampels\n",
    "        # mojo\n",
    "        torch.cuda.synchronize()\n",
    "        begin = time.perf_counter()\n",
    "        mojo_result = graph.execute(A, B)\n",
    "        torch.cuda.synchronize()\n",
    "        record['mojo'] += (time.perf_counter() - begin) / sampels\n",
    "        assert numpy.allclose(mojo_result[0].to_numpy(), torch_result.cpu().numpy(), rtol=0, atol=0.005)\n",
    "    print(algo, record)"
   ]
  },
  {
   "cell_type": "markdown",
   "id": "100c23ac-7763-4f1c-a179-154e4f1b8fdf",
   "metadata": {},
   "source": [
    "## Reference\n",
    "[1] https://github.com/modular/modular/blob/main/examples/custom_ops/kernels/matrix_multiplication.mojo\n",
    "\n",
    "[2] https://docs.modular.com/max/tutorials/custom-ops-matmul"
   ]
  }
 ],
 "metadata": {
  "kernelspec": {
   "display_name": "Python 3 (ipykernel)",
   "language": "python",
   "name": "python3"
  },
  "language_info": {
   "codemirror_mode": {
    "name": "ipython",
    "version": 3
   },
   "file_extension": ".py",
   "mimetype": "text/x-python",
   "name": "python",
   "nbconvert_exporter": "python",
   "pygments_lexer": "ipython3",
   "version": "3.13.5"
  }
 },
 "nbformat": 4,
 "nbformat_minor": 5
}
