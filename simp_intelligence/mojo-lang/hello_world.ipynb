{
 "cells": [
  {
   "cell_type": "markdown",
   "id": "85f787f2-c899-43d1-99d8-4e05cd82fe98",
   "metadata": {},
   "source": [
    "# Hello World!\n",
    "Let's write some math! $e^{i\\pi} + 1 = 0$, now, your turn!"
   ]
  },
  {
   "cell_type": "code",
   "execution_count": 8,
   "id": "8a5f6b44-0cdb-4674-890b-a77d86e5c6a2",
   "metadata": {},
   "outputs": [
    {
     "name": "stdout",
     "output_type": "stream",
     "text": [
      "Hello, World!\n"
     ]
    }
   ],
   "source": [
    "fn main():\n",
    "    print(\"Hello, World!\")\n",
    "\n",
    "main()"
   ]
  },
  {
   "cell_type": "markdown",
   "id": "9e164f3d-42ac-4467-b4ee-31b110d576d5",
   "metadata": {},
   "source": [
    "Some metaprogramming:"
   ]
  },
  {
   "cell_type": "code",
   "execution_count": 5,
   "id": "33e9f502-2432-4f20-8691-0cad765eccb2",
   "metadata": {},
   "outputs": [
    {
     "name": "stdout",
     "output_type": "stream",
     "text": [
      "Int\n"
     ]
    }
   ],
   "source": [
    "from compile.reflection import get_type_name\n",
    "\n",
    "fn print_type_of[T: AnyType](x: T):\n",
    "    print(get_type_name[T]())\n",
    "\n",
    "t: Int = 32\n",
    "print_type_of(t)"
   ]
  }
 ],
 "metadata": {
  "kernelspec": {
   "display_name": "MAX (Conda ENV Mojo kernel)",
   "language": "mojo",
   "name": "mojo"
  },
  "language_info": {
   "codemirror_mode": {
    "name": "mojo"
   },
   "file_extension": ".mojo",
   "mimetype": "text/x-mojo",
   "name": "mojo"
  }
 },
 "nbformat": 4,
 "nbformat_minor": 5
}
