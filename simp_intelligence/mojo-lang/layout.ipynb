{
 "cells": [
  {
   "cell_type": "code",
   "execution_count": 16,
   "id": "43454198-140f-4463-bfdc-5f5f37fe0aba",
   "metadata": {},
   "outputs": [],
   "source": [
    "from layout import Layout, print_layout, IntTuple"
   ]
  },
  {
   "cell_type": "code",
   "execution_count": 4,
   "id": "2eee8152-261c-444d-8d3f-4bb34d1636f8",
   "metadata": {},
   "outputs": [
    {
     "name": "stdout",
     "output_type": "stream",
     "text": [
      "((3, 4):(4, 1))\n",
      "       0    1    2    3\n",
      "    +----+----+----+----+\n",
      " 0  |  0 |  1 |  2 |  3 |\n",
      "    +----+----+----+----+\n",
      " 1  |  4 |  5 |  6 |  7 |\n",
      "    +----+----+----+----+\n",
      " 2  |  8 |  9 | 10 | 11 |\n",
      "    +----+----+----+----+\n"
     ]
    }
   ],
   "source": [
    "print_layout(Layout.row_major(3, 4))"
   ]
  },
  {
   "cell_type": "code",
   "execution_count": 10,
   "id": "26f4cd16-ea7a-4525-bbce-765f50b48acd",
   "metadata": {},
   "outputs": [
    {
     "name": "stdout",
     "output_type": "stream",
     "text": [
      "((5, 1):(1, 1))\n",
      "      0\n",
      "    +---+\n",
      " 0  | 0 |\n",
      "    +---+\n",
      " 1  | 1 |\n",
      "    +---+\n",
      " 2  | 2 |\n",
      "    +---+\n",
      " 3  | 3 |\n",
      "    +---+\n",
      " 4  | 4 |\n",
      "    +---+\n"
     ]
    }
   ],
   "source": [
    "print_layout(Layout.row_major(5, 1))"
   ]
  },
  {
   "cell_type": "code",
   "execution_count": 36,
   "id": "e750b302-1289-42d9-94c3-5fcd159e82ab",
   "metadata": {},
   "outputs": [
    {
     "name": "stdout",
     "output_type": "stream",
     "text": [
      "0 -> (0, 0)\n",
      "1 -> (1, 0)\n",
      "2 -> (2, 0)\n",
      "3 -> (3, 0)\n",
      "4 -> (4, 0)\n",
      "5 -> (0, 0)\n",
      "6 -> (1, 0)\n",
      "7 -> (2, 0)\n"
     ]
    }
   ],
   "source": [
    "# index to coordinate mapping\n",
    "for idx in range(8):\n",
    "    print(idx, '->', Layout.row_major(5, 1).idx2crd(idx))"
   ]
  },
  {
   "cell_type": "code",
   "execution_count": 37,
   "id": "cf79281f-2d45-4702-a943-f5bca23a3035",
   "metadata": {},
   "outputs": [
    {
     "name": "stdout",
     "output_type": "stream",
     "text": [
      "(7, 8) -> 15\n"
     ]
    }
   ],
   "source": [
    "# coordinate to index mapping\n",
    "crd = IntTuple(7, 8)\n",
    "print(crd, \"->\",\n",
    "    Layout.row_major(5, 1)(crd)\n",
    ")"
   ]
  },
  {
   "cell_type": "markdown",
   "id": "798879ba-7a23-4c28-892d-7424ac1110bd",
   "metadata": {},
   "source": [
    "For row-major [M, N]: strides = [N, 1]\n",
    "\n",
    "* addr(i, j) = i*N + j\n",
    "\n",
    "For col-major [M, N]: strides = [1, M]\n",
    "\n",
    "* addr(i, j) = i + j*M"
   ]
  }
 ],
 "metadata": {
  "kernelspec": {
   "display_name": "MAX (Conda ENV Mojo kernel)",
   "language": "mojo",
   "name": "mojo"
  },
  "language_info": {
   "codemirror_mode": {
    "name": "mojo"
   },
   "file_extension": ".mojo",
   "mimetype": "text/x-mojo",
   "name": "mojo"
  }
 },
 "nbformat": 4,
 "nbformat_minor": 5
}
