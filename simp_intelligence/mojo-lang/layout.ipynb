{
 "cells": [
  {
   "cell_type": "code",
   "execution_count": 43,
   "id": "43454198-140f-4463-bfdc-5f5f37fe0aba",
   "metadata": {},
   "outputs": [],
   "source": [
    "from layout import Layout, print_layout, IntTuple, LayoutTensor"
   ]
  },
  {
   "cell_type": "code",
   "execution_count": 4,
   "id": "2eee8152-261c-444d-8d3f-4bb34d1636f8",
   "metadata": {},
   "outputs": [
    {
     "name": "stdout",
     "output_type": "stream",
     "text": [
      "((3, 4):(4, 1))\n",
      "       0    1    2    3\n",
      "    +----+----+----+----+\n",
      " 0  |  0 |  1 |  2 |  3 |\n",
      "    +----+----+----+----+\n",
      " 1  |  4 |  5 |  6 |  7 |\n",
      "    +----+----+----+----+\n",
      " 2  |  8 |  9 | 10 | 11 |\n",
      "    +----+----+----+----+\n"
     ]
    }
   ],
   "source": [
    "print_layout(Layout.row_major(3, 4))"
   ]
  },
  {
   "cell_type": "code",
   "execution_count": 10,
   "id": "26f4cd16-ea7a-4525-bbce-765f50b48acd",
   "metadata": {},
   "outputs": [
    {
     "name": "stdout",
     "output_type": "stream",
     "text": [
      "((5, 1):(1, 1))\n",
      "      0\n",
      "    +---+\n",
      " 0  | 0 |\n",
      "    +---+\n",
      " 1  | 1 |\n",
      "    +---+\n",
      " 2  | 2 |\n",
      "    +---+\n",
      " 3  | 3 |\n",
      "    +---+\n",
      " 4  | 4 |\n",
      "    +---+\n"
     ]
    }
   ],
   "source": [
    "print_layout(Layout.row_major(5, 1))"
   ]
  },
  {
   "cell_type": "code",
   "execution_count": 36,
   "id": "e750b302-1289-42d9-94c3-5fcd159e82ab",
   "metadata": {},
   "outputs": [
    {
     "name": "stdout",
     "output_type": "stream",
     "text": [
      "0 -> (0, 0)\n",
      "1 -> (1, 0)\n",
      "2 -> (2, 0)\n",
      "3 -> (3, 0)\n",
      "4 -> (4, 0)\n",
      "5 -> (0, 0)\n",
      "6 -> (1, 0)\n",
      "7 -> (2, 0)\n"
     ]
    }
   ],
   "source": [
    "# index to coordinate mapping\n",
    "for idx in range(8):\n",
    "    print(idx, '->', Layout.row_major(5, 1).idx2crd(idx))"
   ]
  },
  {
   "cell_type": "code",
   "execution_count": 37,
   "id": "cf79281f-2d45-4702-a943-f5bca23a3035",
   "metadata": {},
   "outputs": [
    {
     "name": "stdout",
     "output_type": "stream",
     "text": [
      "(7, 8) -> 15\n"
     ]
    }
   ],
   "source": [
    "# coordinate to index mapping\n",
    "crd = IntTuple(7, 8)\n",
    "print(crd, \"->\",\n",
    "    Layout.row_major(5, 1)(crd)\n",
    ")"
   ]
  },
  {
   "cell_type": "markdown",
   "id": "798879ba-7a23-4c28-892d-7424ac1110bd",
   "metadata": {},
   "source": [
    "For row-major [M, N]: strides = [N, 1]\n",
    "\n",
    "* addr(i, j) = i*N + j\n",
    "\n",
    "For col-major [M, N]: strides = [1, M]\n",
    "\n",
    "* addr(i, j) = i + j*M"
   ]
  },
  {
   "cell_type": "code",
   "execution_count": 82,
   "id": "ec439e97-534f-4f33-8875-f1bc523b5f34",
   "metadata": {},
   "outputs": [
    {
     "name": "stdout",
     "output_type": "stream",
     "text": [
      "10 11 12 13 14 15 16 17 \n",
      "18 19 20 21 22 23 24 25 \n",
      "26 27 28 29 30 31 32 33 \n",
      "34 35 36 37 38 39 40 41 \n",
      "42 43 44 45 46 47 48 49 \n"
     ]
    }
   ],
   "source": [
    "# an instantiated example\n",
    "alias rows = 5\n",
    "alias columns = 8\n",
    "alias numel = rows * columns\n",
    "var ptr = UnsafePointer[Int8].alloc(numel)\n",
    "for i in range(numel):\n",
    "    ptr[i] = i + 10\n",
    "\n",
    "alias layout = Layout.row_major(rows, columns)\n",
    "var tensor = LayoutTensor[DType.int8, layout](ptr)\n",
    "print(tensor)"
   ]
  },
  {
   "cell_type": "code",
   "execution_count": 90,
   "id": "993457d4-5d28-4cea-b2c1-9d12688aa7ff",
   "metadata": {},
   "outputs": [
    {
     "name": "stdout",
     "output_type": "stream",
     "text": [
      "5 8\n"
     ]
    }
   ],
   "source": [
    "print(tensor.dim[0](), tensor.dim[1]())"
   ]
  },
  {
   "cell_type": "code",
   "execution_count": 92,
   "id": "bf54477c-9b73-471c-a70b-b4329fdcae9b",
   "metadata": {},
   "outputs": [
    {
     "name": "stdout",
     "output_type": "stream",
     "text": [
      "10 11 12 \n",
      "18 19 20 \n"
     ]
    }
   ],
   "source": [
    "tile = tensor.tile[2, 3](0, 0)\n",
    "print(tile)"
   ]
  },
  {
   "cell_type": "code",
   "execution_count": 93,
   "id": "d745ecec-e759-4d59-b1e9-6829de4fd4f5",
   "metadata": {},
   "outputs": [
    {
     "name": "stdout",
     "output_type": "stream",
     "text": [
      "29 30 31 \n",
      "37 38 39 \n"
     ]
    }
   ],
   "source": [
    "print(tensor.tile[2, 3](1, 1))"
   ]
  },
  {
   "cell_type": "code",
   "execution_count": 94,
   "id": "a75abd96-ffa9-4d3e-b490-3a26c2fe48fc",
   "metadata": {},
   "outputs": [
    {
     "name": "stdout",
     "output_type": "stream",
     "text": [
      "32 33 \n",
      "40 41 \n"
     ]
    }
   ],
   "source": [
    "print(tensor.tile[2, 3](1, 2))"
   ]
  },
  {
   "cell_type": "code",
   "execution_count": 98,
   "id": "9ae8ea47-2d3e-4910-b3f7-ad5322c68930",
   "metadata": {},
   "outputs": [
    {
     "name": "stdout",
     "output_type": "stream",
     "text": [
      "48 49 \n"
     ]
    }
   ],
   "source": [
    "print(tensor.tile[2, 3](2, 2))"
   ]
  },
  {
   "cell_type": "code",
   "execution_count": 99,
   "id": "64fd8fab-ee81-440d-959d-e31b3615dffa",
   "metadata": {},
   "outputs": [
    {
     "name": "stdout",
     "output_type": "stream",
     "text": [
      "\n",
      "0 0\n"
     ]
    }
   ],
   "source": [
    "tile = tensor.tile[2, 3](9, 9)\n",
    "print(tile)\n",
    "print(tile.dim[0](), tile.dim[1]())"
   ]
  },
  {
   "cell_type": "code",
   "execution_count": 100,
   "id": "b9a869e9-804f-4670-bde5-ad6ede0fdfa7",
   "metadata": {},
   "outputs": [],
   "source": [
    "ptr.free()"
   ]
  }
 ],
 "metadata": {
  "kernelspec": {
   "display_name": "MAX (Conda ENV Mojo kernel)",
   "language": "mojo",
   "name": "mojo"
  },
  "language_info": {
   "codemirror_mode": {
    "name": "mojo"
   },
   "file_extension": ".mojo",
   "mimetype": "text/x-mojo",
   "name": "mojo"
  }
 },
 "nbformat": 4,
 "nbformat_minor": 5
}
