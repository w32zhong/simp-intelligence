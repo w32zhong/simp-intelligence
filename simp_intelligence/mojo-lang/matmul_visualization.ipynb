{
 "cells": [
  {
   "cell_type": "code",
   "execution_count": 4,
   "id": "4600e905-f817-4353-a978-4ad828f9bb51",
   "metadata": {},
   "outputs": [],
   "source": [
    "from layout.tensor_builder import LayoutTensorBuild as tensor_builder, static\n",
    "from layout.layout_tensor import Layout, LayoutTensor\n",
    "\n",
    "fn example_tensor[rows: Int, columns: Int, base: Int =100]() -> LayoutTensor[\n",
    "    DType.int32,\n",
    "    Layout.row_major(rows, columns),\n",
    "    MutableAnyOrigin,\n",
    "]:\n",
    "    var t = tensor_builder[DType.int32]().row_major(\n",
    "                static[rows](), static[columns]()\n",
    "            ).alloc()\n",
    "    for r in range(rows):\n",
    "        for c in range(columns):\n",
    "            t[r, c] = (r + 1) * base + c\n",
    "    return t"
   ]
  },
  {
   "cell_type": "code",
   "execution_count": 8,
   "id": "2b50640b-4d81-4d03-bad3-963cd0a79ae6",
   "metadata": {},
   "outputs": [
    {
     "name": "stdout",
     "output_type": "stream",
     "text": [
      "10 11 12 13 \n",
      "20 21 22 23 \n",
      "30 31 32 33 \n",
      "40 41 42 43 \n",
      "50 51 52 53 \n",
      "60 61 62 63 \n",
      "70 71 72 73 \n",
      "80 81 82 83 \n",
      "\n",
      "1000 1001 1002 1003 1004 1005 1006 1007 1008 1009 1010 1011 1012 1013 1014 1015 \n",
      "2000 2001 2002 2003 2004 2005 2006 2007 2008 2009 2010 2011 2012 2013 2014 2015 \n",
      "3000 3001 3002 3003 3004 3005 3006 3007 3008 3009 3010 3011 3012 3013 3014 3015 \n",
      "4000 4001 4002 4003 4004 4005 4006 4007 4008 4009 4010 4011 4012 4013 4014 4015 \n",
      "\n",
      "100 101 102 103 104 105 106 107 108 109 110 111 112 113 114 115 \n",
      "200 201 202 203 204 205 206 207 208 209 210 211 212 213 214 215 \n",
      "300 301 302 303 304 305 306 307 308 309 310 311 312 313 314 315 \n",
      "400 401 402 403 404 405 406 407 408 409 410 411 412 413 414 415 \n",
      "500 501 502 503 504 505 506 507 508 509 510 511 512 513 514 515 \n",
      "600 601 602 603 604 605 606 607 608 609 610 611 612 613 614 615 \n",
      "700 701 702 703 704 705 706 707 708 709 710 711 712 713 714 715 \n",
      "800 801 802 803 804 805 806 807 808 809 810 811 812 813 814 815 \n"
     ]
    }
   ],
   "source": [
    "var A = example_tensor[8, 4, 10]()\n",
    "var B = example_tensor[4, 16, 1000]()\n",
    "var C = example_tensor[8, 16, 100]()\n",
    "print(A, end=\"\\n\\n\")\n",
    "print(B, end=\"\\n\\n\")\n",
    "print(C)"
   ]
  },
  {
   "cell_type": "code",
   "execution_count": null,
   "id": "20b9b4ce-4c21-4946-9b8e-6c814b7ed779",
   "metadata": {},
   "outputs": [],
   "source": []
  }
 ],
 "metadata": {
  "kernelspec": {
   "display_name": "MAX (Conda ENV Mojo kernel)",
   "language": "mojo",
   "name": "mojo"
  },
  "language_info": {
   "codemirror_mode": {
    "name": "mojo"
   },
   "file_extension": ".mojo",
   "mimetype": "text/x-mojo",
   "name": "mojo"
  }
 },
 "nbformat": 4,
 "nbformat_minor": 5
}
