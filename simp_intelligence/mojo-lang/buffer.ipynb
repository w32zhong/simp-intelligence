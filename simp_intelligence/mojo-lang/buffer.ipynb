{
 "cells": [
  {
   "cell_type": "code",
   "execution_count": 31,
   "id": "bb0fad0b-62dc-459b-9a17-178a5b39f8f0",
   "metadata": {},
   "outputs": [
    {
     "name": "stdout",
     "output_type": "stream",
     "text": [
      "NDBuffer([[[0, 1, 2, 3],\n",
      "[4, 5, 6, 7],\n",
      "[8, 9, 10, 11]],\n",
      "[[12, 13, 14, 15],\n",
      "[16, 17, 18, 19],\n",
      "[20, 21, 22, 23]]], dtype=int32, shape=2x3x4)\n"
     ]
    }
   ],
   "source": [
    "from memory import OwnedPointer\n",
    "from buffer import DimList, NDBuffer\n",
    "\n",
    "var storage = OwnedPointer(\n",
    "    InlineArray[Scalar[DType.int32], 24](fill=0)\n",
    ")\n",
    "inline_array = storage[]\n",
    "\n",
    "for i in range(24):\n",
    "    inline_array[i] = i\n",
    "\n",
    "var view = NDBuffer[dtype=DType.int32, rank=3, origin=MutableAnyOrigin, shape=DimList(2, 3, 4)](\n",
    "    inline_array.unsafe_ptr()\n",
    ")\n",
    "print(view)"
   ]
  }
 ],
 "metadata": {
  "kernelspec": {
   "display_name": "MAX (Conda ENV Mojo kernel)",
   "language": "mojo",
   "name": "mojo"
  },
  "language_info": {
   "codemirror_mode": {
    "name": "mojo"
   },
   "file_extension": ".mojo",
   "mimetype": "text/x-mojo",
   "name": "mojo"
  }
 },
 "nbformat": 4,
 "nbformat_minor": 5
}
