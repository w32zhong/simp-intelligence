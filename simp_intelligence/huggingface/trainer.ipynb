{
 "cells": [
  {
   "cell_type": "markdown",
   "id": "fae5ea58",
   "metadata": {},
   "source": [
    "## Example code (pseudo code)\n"
   ]
  },
  {
   "cell_type": "code",
   "execution_count": null,
   "id": "2aaae331",
   "metadata": {},
   "outputs": [],
   "source": [
    "Class MyModel():\n",
    "    def forward():\n",
    "        ...\n",
    "        plogp = target_p * pred_logp\n",
    "        loss = -torch.sum(torch.sum(loss_mask * plogp, 2)) / (num_items_in_batch + 1e-5)\n",
    "        ...\n",
    "\n",
    "class MyCustomTrainer(Trainer):\n",
    "    def evaluate(self, **kwargs):\n",
    "        eval_dataset = self.eval_dataset\n",
    "        dataloader = self.get_eval_dataloader(eval_dataset, batch_size=1)\n",
    "        model = self.model\n",
    "        model.eval()\n",
    "        for eval_idx, inputs in enumerate(dataloader):\n",
    "            with torch.no_grad(), torch.cuda.amp.autocast():\n",
    "                outputs = model(**inputs)\n",
    "        model.compute_metrics()\n",
    "\n",
    "    def get_batch_samples(self, epoch_iterator, accumulation_steps, device=None):\n",
    "        # only be called by train_loop not evaluation_loop!\n",
    "        batch_samples = []\n",
    "        num_items_in_batch = None\n",
    "        for _ in range(accumulation_steps):\n",
    "            try:\n",
    "                batch_samples += [next(epoch_iterator)]\n",
    "            except StopIteration:\n",
    "                break\n",
    "\n",
    "        if len(batch_samples) > 0:\n",
    "            num_items_in_batch = self.get_num_items_in_batch(batch_samples)\n",
    "        if self.args.average_tokens_across_devices:\n",
    "            num_items_in_batch = gather(num_items_in_batch).sum()\n",
    "\n",
    "        return batch_samples, num_items_in_batch\n",
    "\n",
    "    def get_num_items_in_batch():\n",
    "        # e.g., using (labels != 0).sum() for all batches in this batch_samples\n",
    "\n",
    "\n",
    "trainer = MyCustomTrainer(\n",
    "    model=model,\n",
    "    args=hgf_training_args,\n",
    "    # train dataset\n",
    "    train_dataset=train_dataset,\n",
    "    data_collator=train_collator,\n",
    "    # eval dataset\n",
    "    eval_dataset=eval_dataset,\n",
    "    eval_data_collator=eval_collator,\n",
    "    # logging\n",
    "    compute_metrics= ...\n",
    ")"
   ]
  },
  {
   "cell_type": "markdown",
   "id": "beba3057",
   "metadata": {},
   "source": [
    "## Trainer"
   ]
  },
  {
   "cell_type": "code",
   "execution_count": null,
   "id": "33052391",
   "metadata": {},
   "outputs": [],
   "source": [
    "class Trainer:\n",
    "    def train():\n",
    "        self._inner_training_loop()\n",
    "\n",
    "    def _inner_training_loop():\n",
    "        self._train_batch_size # per-device batch size\n",
    "        train_dataloader = DataLoader(train_dataset, batch_size=self._train_batch_size)\n",
    "        model, self.optimizer = self.accelerator.prepare(self.model, self.optimizer)\n",
    "        checkpoint_loading() # if any\n",
    "\n",
    "        # Train!\n",
    "        tr_loss = torch.tensor(0.0, device=args.device) # accumulated loss\n",
    "        if args.eval_on_start:\n",
    "            self.evaluate()\n",
    "\n",
    "        for epoch in range(epochs_trained, num_train_epochs):\n",
    "            epoch_dataloader = train_dataloader\n",
    "            total_updates = steps_in_epoch // args.gradient_accumulation_steps\n",
    "            epoch_iterator = iter(epoch_dataloader)\n",
    "            step = update_step = -1\n",
    "            for _ in range(total_updates):\n",
    "                update_step += 1\n",
    "                batch_samples, num_items_in_batch = self.get_batch_samples(epoch_iterator, accumulation_steps)\n",
    "                for i, inputs in enumerate(batch_samples):\n",
    "                    step += 1\n",
    "                    do_sync_step = (step + 1) % args.gradient_accumulation_steps == 0\n",
    "                    # do training step\n",
    "                    tr_loss_step = self.training_step(model, inputs, num_items_in_batch)\n",
    "                    tr_loss = tr_loss + tr_loss_step\n",
    "\n",
    "                    if do_sync_step:\n",
    "                        gradient_clipping()\n",
    "                        self.optimizer.step()\n",
    "                        learning_rate = self._get_learning_rate()\n",
    "                        model.zero_grad()\n",
    "                        self.state.global_step += 1\n",
    "                        self._maybe_log_save_evaluate(tr_loss)\n",
    "\n",
    "    def training_step(model, inputs, num_items_in_batch): # per step\n",
    "        model.train()\n",
    "        inputs = self._prepare_inputs(inputs)\n",
    "        loss = self.compute_loss(model, inputs, num_items_in_batch=num_items_in_batch)\n",
    "        torch.cuda.empty_cache()\n",
    "\n",
    "        if num_items_in_batch is not None:\n",
    "            loss *= self.args.gradient_accumulation_steps # to cancel Accelerate GA loss\n",
    "        \n",
    "        self.accelerator.backward(loss, **kwargs)\n",
    "\n",
    "        # returning the loss for reporting\n",
    "        if num_items_in_batch is None:\n",
    "            # simulate the Accelerate GA loss here\n",
    "            return loss.detach() / self.args.gradient_accumulation_steps\n",
    "        else:\n",
    "            return loss.detach()\n",
    "\n",
    "    def compute_loss(...): # per step\n",
    "        kwargs = {}\n",
    "        kwargs[\"num_items_in_batch\"] = num_items_in_batch\n",
    "        inputs = {**inputs, **kwargs}\n",
    "        outputs = model(**inputs)\n",
    "        loss = outputs[\"loss\"] if isinstance(outputs, dict) else outputs[0]\n",
    "        if self.args.average_tokens_across_devices:\n",
    "            loss *= self.accelerator.num_processes # to cancel mean reduce\n",
    "        return loss\n",
    "\n",
    "    def _maybe_log_save_evaluate(tr_loss): # per update\n",
    "        if self.control.should_log:\n",
    "            tr_loss_scalar = gather(tr_loss).mean() # mean reduce\n",
    "            tr_loss -= tr_loss # reset tr_loss to zero\n",
    "            logs = dict()\n",
    "            logs[\"loss\"] = round(tr_loss_scalar / (self.state.global_step - self._globalstep_last_logged)\n",
    "            self.log({**logs, **{\"step\": self.state.global_step}})\n",
    "            self._globalstep_last_logged = self.state.global_step\n",
    "\n",
    "        if self.control.should_evaluate:\n",
    "            self.evaluate()"
   ]
  },
  {
   "cell_type": "markdown",
   "id": "d243bbf9",
   "metadata": {},
   "source": [
    "## Accelerate"
   ]
  },
  {
   "cell_type": "code",
   "execution_count": null,
   "id": "e5367a1f",
   "metadata": {},
   "outputs": [],
   "source": [
    "class Accelerator:\n",
    "    def backward(self, loss, **kwargs):\n",
    "        if self.distributed_type != DistributedType.DEEPSPEED: # deepspeed handles this in its code\n",
    "            loss = loss / self.gradient_accumulation_steps # Accelerate GA loss\n",
    "        loss.backward(**kwargs)"
   ]
  },
  {
   "cell_type": "markdown",
   "id": "f7eeb7c2-b99c-4982-b127-48e996bd2912",
   "metadata": {},
   "source": [
    "What loss.backward will do in DDP/Accelerate is: on each rank $r$ compute the local gradient $g_r$ (from back-propogating the local loss), then perform an **all-reduce (mean)**:\n",
    "$$\n",
    "g_\\text{sync} = \\frac1 W \\sum_r^W g_r\n",
    "$$\n",
    "where $W$ is the world size. And use this sync gradients to perform local parameter updates."
   ]
  },
  {
   "cell_type": "markdown",
   "id": "2e9048de",
   "metadata": {},
   "source": [
    "## Correctness\n",
    "In SGD, gradients can be accumulated separatedly:\n",
    "$$\n",
    "\\nabla_\\theta L_D = \\frac 1N \\sum_i^N \\nabla_\\theta L(\\theta, D_i) \\doteq \\frac 1N \\sum_i^N g_i \n",
    "$$"
   ]
  },
  {
   "cell_type": "markdown",
   "id": "497ead4d",
   "metadata": {},
   "source": [
    "In language modeling, sample is token based. However, each batch of token sequences $k$ in a accumulate-gradient batch $B$ may contain different number of tokens $N_k$. As a result, it is not correct to use \"average of average\" to model the loss here:\n",
    "$$\n",
    "\\nabla_\\theta L_D = \\frac 1 {\\sum_k^B N_k} \\sum_k^B \\sum_i^{N_k} g_i  \\not=\\frac1 B \\sum_k^B ( \\frac1{N_k} \\sum_i^{N_k} g_i )\n",
    "$$"
   ]
  },
  {
   "cell_type": "markdown",
   "id": "f12133ee",
   "metadata": {},
   "source": [
    "This RHS incorrectness is actually kept in Huggingface for a long time, and gets fixed only recently from a notice of a 3rd party (Unsloth): https://huggingface.co/blog/gradient_accumulation\n",
    "\n",
    "Note that the reference Transformers code is before [this PR](https://github.com/huggingface/transformers/pull/34511) after which the `training_step` becomes a mess!"
   ]
  },
  {
   "cell_type": "markdown",
   "id": "5db54582-2976-4e7c-a62f-e97fae54c24d",
   "metadata": {},
   "source": [
    "## average_tokens_across_devices\n"
   ]
  },
  {
   "cell_type": "markdown",
   "id": "6504d428-f861-4bba-9467-2647d572c397",
   "metadata": {},
   "source": [
    "This option, if not specified, will make a local gradient $g_i$ to be normalised by the number of tokens $n_i$ in its compute node $i$, i.e., essentially $\\frac{g_i}{n_i}$. During mean-reduce:\n",
    "$$\n",
    "\\tag{1}\n",
    "g_\\text{sync} = \\frac1W \\sum_i^W \\frac{g_i}{n_i}\n",
    "$$\n",
    "where $W$ is the world size.\n",
    "\n",
    "If this option is specified, it will becomes $\\frac{g_i}{N} \\cdot W$ where $N=\\sum_i^W n_i$ is the total number of tokens in all nodes. \n",
    "During mean-reduce:\n",
    "$$\n",
    "\\tag{2}\n",
    "g_\\text{sync} = \\frac1W \\sum_i^W \\frac{g_i}{N} \\cdot W =  \\frac{1}{N}\\sum_i^W g_i\n",
    "$$"
   ]
  },
  {
   "cell_type": "markdown",
   "id": "1f9be1ff-b40b-4327-bf99-dc826ce46450",
   "metadata": {},
   "source": [
    "Given two nodes, obviously\n",
    "$$\n",
    "\\frac12(\\frac{g_1}{n_1} + \\frac{g_2}{n_2}) \\not= \\frac{g_1 + g_2}{n_1 + n_2}\n",
    "$$\n",
    "unless $n_1 = n_2$.\n",
    "\n",
    "As a result, unlike (2) being unbiased estimation, (1) is not likely a good mean estimation. "
   ]
  }
 ],
 "metadata": {
  "kernelspec": {
   "display_name": "Python 3 (ipykernel)",
   "language": "python",
   "name": "python3"
  },
  "language_info": {
   "codemirror_mode": {
    "name": "ipython",
    "version": 3
   },
   "file_extension": ".py",
   "mimetype": "text/x-python",
   "name": "python",
   "nbconvert_exporter": "python",
   "pygments_lexer": "ipython3",
   "version": "3.13.5"
  }
 },
 "nbformat": 4,
 "nbformat_minor": 5
}
